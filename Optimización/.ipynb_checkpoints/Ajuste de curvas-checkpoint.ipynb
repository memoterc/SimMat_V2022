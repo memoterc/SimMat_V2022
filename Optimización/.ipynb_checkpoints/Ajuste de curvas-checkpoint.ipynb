{
 "cells": [
  {
   "cell_type": "markdown",
   "metadata": {},
   "source": [
    "# Ajuste de curvas\n",
    "\n",
    "<img style=\"float: right; margin: 0px 0px 15px 15px;\" src=\"https://upload.wikimedia.org/wikipedia/commons/a/a8/Regression_pic_assymetrique.gif\" width=\"400px\" height=\"125px\" />\n",
    "\n",
    "> El **ajuste de curvas** es el proceso de construir una curva (función), que sea el mejor ajuste a una serie de puntos. Las curvas ajustadas pueden ser usadas como asistencia en la visualización de datos, para inferir valores de una función donde no hay datos disponibles, y para resumir la relación entre variables.\n",
    "\n",
    "**Referencia**:\n",
    "- https://en.wikipedia.org/wiki/Curve_fitting\n",
    "___"
   ]
  },
  {
   "cell_type": "markdown",
   "metadata": {},
   "source": [
    "## 0. Introducción\n",
    "\n",
    "Consideremos un polinomio de grado uno:\n",
    "\n",
    "$$y = \\beta_1 x + \\beta_0.$$\n",
    "\n",
    "Esta es una **línea recta** que tiene pendiente $\\beta_1$. Sabemos que habrá una línea conectando dos puntos cualesquiera. Por tanto, *una ecuación polinómica de primer grado es un ajuste perfecto entre dos puntos*.\n",
    "\n",
    "Si consideramos ahora un polinomio de segundo grado,\n",
    "\n",
    "$$y = \\beta_2 x^2 + \\beta_1 x + \\beta_0,$$\n",
    "\n",
    "este se ajustará exactamente a tres puntos. Si aumentamos el grado de la función a la de un polinomio de tercer grado, obtenemos:\n",
    "\n",
    "$$y = \\beta_3 x^3 + \\beta_2 x^2 + \\beta_1 x + \\beta_0,$$\n",
    "\n",
    "que se ajustará a cuatro puntos.\n",
    "\n",
    "**Ejemplos**\n",
    "1. Encontrar la línea recta que pasa exactamente por los puntos $(3,1)$ y $(2,0)$.\n",
    "2. Encontrar la parábola que pasa exactamente por los puntos $(0,1)$, $(1,0)$ y $(2,1)$.\n",
    "\n",
    "**Solución**\n",
    "1. Consideramos $y=\\beta_1 x + \\beta_0$. Evaluando en el punto $(3,1)$, obtenemos $\\beta_1(3) + \\beta_0 = 1$. Ahora, evaluando en el punto $(2,0)$, obtenemos $\\beta_1(2) + \\beta_0 = 0$. De esta manera,\n",
    "$$\\left[\\begin{array}{cc} 1 & 3 \\\\ 1 & 2\\end{array}\\right]\\left[\\begin{array}{c} \\beta_0 \\\\ \\beta_1\\end{array}\\right]=\\left[\\begin{array}{c} 1 \\\\ 0\\end{array}\\right].$$\n",
    "Resolviendo, $\\beta_0=-2, \\, \\beta_1=1$."
   ]
  },
  {
   "cell_type": "code",
   "execution_count": 1,
   "metadata": {},
   "outputs": [],
   "source": [
    "import numpy as np\n",
    "import matplotlib.pyplot as plt"
   ]
  },
  {
   "cell_type": "code",
   "execution_count": 2,
   "metadata": {},
   "outputs": [
    {
     "data": {
      "text/plain": [
       "array([-2.,  1.])"
      ]
     },
     "execution_count": 2,
     "metadata": {},
     "output_type": "execute_result"
    }
   ],
   "source": [
    "A=np.array([[1,3],\n",
    "           [ 1,2]])\n",
    "b=np.array([1,0])\n",
    "np.linalg.inv(A)@b # @ -> multiplicación matricial"
   ]
  },
  {
   "cell_type": "code",
   "execution_count": 3,
   "metadata": {},
   "outputs": [
    {
     "data": {
      "image/png": "[encoded data removed]",
      "text/plain": [
       "<Figure size 432x288 with 1 Axes>"
      ]
     },
     "metadata": {
      "needs_background": "light"
     },
     "output_type": "display_data"
    }
   ],
   "source": [
    "def linmod(x):\n",
    "    return -2+x\n",
    "x=np.linspace(0,5,10)\n",
    "plt.plot(x,linmod(x))\n",
    "plt.plot([3,2],[1,0],'xr',ms=15)\n",
    "plt.grid()"
   ]
  },
  {
   "cell_type": "markdown",
   "metadata": {},
   "source": [
    "2. Consideramos $y=\\beta_2 x^2 + \\beta_1 x + \\beta_0$. Evaluando en el punto $(0,1)$, obtenemos $\\beta_2(0)^2 + \\beta_1(0) + \\beta_0 = 1$. Ahora, evaluando en el punto $(1,0)$, obtenemos $\\beta_2(1)^2 + \\beta_1(1) + \\beta_0 = 0$. Finalmente, evaluando en el punto $(2,1)$, obtenemos $\\beta_2(2)^2 + \\beta_1(2) + \\beta_0 = 1$. De esta manera,\n",
    "$$\\left[\\begin{array}{ccc} 1 & 0 & 0 \\\\ 1 & 1 & 1 \\\\ 1 & 2 & 4 \\end{array}\\right]\\left[\\begin{array}{c} \\beta_0 \\\\ \\beta_1 \\\\ \\beta_2 \\end{array}\\right]=\\left[\\begin{array}{c} 1 \\\\ 0 \\\\ 1 \\end{array}\\right].$$\n",
    "Resolviendo, $\\beta_0=1, \\, \\beta_1=-2$ y $\\beta_2=1$."
   ]
  },
  {
   "cell_type": "code",
   "execution_count": 4,
   "metadata": {},
   "outputs": [
    {
     "data": {
      "text/plain": [
       "array([ 1., -2.,  1.])"
      ]
     },
     "execution_count": 4,
     "metadata": {},
     "output_type": "execute_result"
    }
   ],
   "source": [
    "A=np.array([[1,0,0],\n",
    "           [1,1,1],\n",
    "           [1,2,4]])\n",
    "b=np.array([1,0,1])\n",
    "np.linalg.inv(A)@b"
   ]
  },
  {
   "cell_type": "code",
   "execution_count": 7,
   "metadata": {},
   "outputs": [
    {
     "data": {
      "image/png": "[encoded data removed]",
      "text/plain": [
       "<Figure size 432x288 with 1 Axes>"
      ]
     },
     "metadata": {
      "needs_background": "light"
     },
     "output_type": "display_data"
    }
   ],
   "source": [
    "def modelo(x):\n",
    "    return x**2-2*x+1\n",
    "x=np.linspace(-2,4,100)\n",
    "plt.plot(x,modelo(x))\n",
    "plt.plot([0,1,2],[1,0,1],'xr',ms=15)\n",
    "plt.grid()"
   ]
  },
  {
   "cell_type": "code",
   "execution_count": 8,
   "metadata": {},
   "outputs": [
    {
     "data": {
      "text/plain": [
       "1"
      ]
     },
     "execution_count": 8,
     "metadata": {},
     "output_type": "execute_result"
    }
   ],
   "source": [
    "modelo(2)"
   ]
  },
  {
   "cell_type": "markdown",
   "metadata": {},
   "source": [
    "### ¿Qué tienen en común los anteriores problemas?\n",
    "Las curvas están completamente determinadas por los puntos (datos limpios, suficientes y necesarios).\n",
    "\n",
    "Esto se traduce en que, al llevar el problema a un sistema de ecuaciones lineales, existe una única solución: **no hay necesidad, ni se puede optimizar nada**.\n",
    "\n",
    "¿Tendremos datos así de **'*bonitos*'** en la vida real?\n",
    "\n",
    "La realidad es que los datos que encontraremos en nuestra vida profesional se parecen más a esto..."
   ]
  },
  {
   "cell_type": "code",
   "execution_count": 15,
   "metadata": {},
   "outputs": [
    {
     "data": {
      "image/png": "[encoded data removed]",
      "text/plain": [
       "<Figure size 432x288 with 1 Axes>"
      ]
     },
     "metadata": {
      "needs_background": "light"
     },
     "output_type": "display_data"
    }
   ],
   "source": [
    "x=np.random.uniform(-20,60,100)\n",
    "y=5+3/20*x+np.random.uniform(-3,3,100)\n",
    "plt.scatter(x,y,s=5) # s=size\n",
    "plt.grid()"
   ]
  },
  {
   "cell_type": "markdown",
   "metadata": {},
   "source": [
    "### ¿Cómo ajustamos una curva a esto?"
   ]
  },
  {
   "cell_type": "markdown",
   "metadata": {},
   "source": [
    "## 1. Problema básico\n",
    "\n",
    "<img style=\"float: right; margin: 0px 0px 15px 15px;\" src=\"https://upload.wikimedia.org/wikipedia/commons/3/3a/Linear_regression.svg\" width=\"400px\" height=\"125px\" />\n",
    "\n",
    "Consideramos que tenemos un conjunto de n pares ordenados de datos $(x_i,y_i)$, para $i=1,2,3,\\dots,n$.\n",
    "\n",
    "### ¿Cuál es la recta que mejor se ajusta a estos datos?\n",
    "Consideramos entonces ajustes de la forma $\\hat{f}(x) = \\beta_0+\\beta_1 x = \\left[1 \\quad x\\right]\\left[\\begin{array}{c} \\beta_0 \\\\ \\beta_1 \\end{array}\\right]=\\left[1 \\quad x\\right]\\boldsymbol{\\beta}$ (lineas rectas).\n",
    "\n",
    "Para decir '*mejor*', tenemos que definir algún sentido en que una recta se ajuste *mejor* que otra.\n",
    "\n",
    "**Mínimos cuadrados**: el objetivo es seleccionar los coeficientes $\\boldsymbol{\\beta}=\\left[\\beta_0 \\quad \\beta_1 \\right]^\\top$, de forma que la función evaluada en los puntos $x_i$ i.e.($\\hat{f}(x_i)$) aproxime los valores correspondientes $y_i$.\n",
    "\n",
    "La formulación por mínimos cuadrados, encuentra los $\\boldsymbol{\\beta}=\\left[\\beta_0 \\quad \\beta_1 \\right]^T$ que minimiza\n",
    "$$\\sum_{i=1}^{n}(y_i-\\hat{f}(x_i))^2=\\sum_{i=1}^{n}(y_i-\\left[1 \\quad x_i\\right]\\boldsymbol{\\beta})^2=\\left|\\left|\\boldsymbol{y}-\\boldsymbol{X}\\boldsymbol{\\beta}\\right|\\right|^2,$$\n",
    "\n",
    "donde $\\boldsymbol{y}=\\left[y_1,\\quad\\cdots\\quad, y_n\\right]^\\top$, y $\\boldsymbol{X}=\\left[\\begin{array}{ccc}1 & x_1\\\\ \\vdots & \\vdots \\\\ 1 & x_n\\end{array}\\right].$ Esto es,\n",
    "\n",
    "$$\\boldsymbol{\\beta}^{ls} = \\arg \\min_{\\boldsymbol{\\beta}} \\left|\\left|\\boldsymbol{y}-\\boldsymbol{X}\\boldsymbol{\\beta}\\right|\\right|^2$$"
   ]
  },
  {
   "cell_type": "code",
   "execution_count": 16,
   "metadata": {},
   "outputs": [],
   "source": [
    "import scipy.optimize as opt"
   ]
  },
  {
   "cell_type": "code",
   "execution_count": 18,
   "metadata": {},
   "outputs": [],
   "source": [
    "opt.minimize?"
   ]
  },
  {
   "cell_type": "code",
   "execution_count": 19,
   "metadata": {},
   "outputs": [],
   "source": [
    "# Función objetivo\n",
    "# Criterio de minimización\n",
    "# Mínimos cuadrados\n",
    "def obj_lin(beta,x,y):\n",
    "    f=beta[0]+beta[1]*x\n",
    "    return np.sum((y-f)**2)"
   ]
  },
  {
   "cell_type": "code",
   "execution_count": 37,
   "metadata": {},
   "outputs": [
    {
     "data": {
      "text/plain": [
       "array([0.29029751, 0.84211082])"
      ]
     },
     "execution_count": 37,
     "metadata": {},
     "output_type": "execute_result"
    }
   ],
   "source": [
    "beta0=np.random.rand(2)\n",
    "beta0"
   ]
  },
  {
   "cell_type": "code",
   "execution_count": 39,
   "metadata": {},
   "outputs": [
    {
     "data": {
      "text/plain": [
       "      fun: 308.34943434770435\n",
       " hess_inv: array([[ 9.29972439e-03, -1.92680974e-04],\n",
       "       [-1.92680974e-04,  8.63449514e-06]])\n",
       "      jac: array([7.62939453e-06, 0.00000000e+00])\n",
       "  message: 'Optimization terminated successfully.'\n",
       "     nfev: 24\n",
       "      nit: 5\n",
       "     njev: 8\n",
       "   status: 0\n",
       "  success: True\n",
       "        x: array([5.16099057, 0.14430816])"
      ]
     },
     "execution_count": 39,
     "metadata": {},
     "output_type": "execute_result"
    }
   ],
   "source": [
    "sol_lin=opt.minimize(obj_lin,beta0,args=(x,y))\n",
    "sol_lin"
   ]
  },
  {
   "cell_type": "code",
   "execution_count": 40,
   "metadata": {},
   "outputs": [
    {
     "data": {
      "text/plain": [
       "0.15"
      ]
     },
     "execution_count": 40,
     "metadata": {},
     "output_type": "execute_result"
    }
   ],
   "source": [
    "3/20"
   ]
  },
  {
   "cell_type": "code",
   "execution_count": 41,
   "metadata": {},
   "outputs": [
    {
     "data": {
      "text/plain": [
       "array([5.16099057, 0.14430816])"
      ]
     },
     "execution_count": 41,
     "metadata": {},
     "output_type": "execute_result"
    }
   ],
   "source": [
    "sol_lin.x"
   ]
  },
  {
   "cell_type": "markdown",
   "metadata": {},
   "source": [
    "**El modelo óptimo lineal es**\n",
    "$$\n",
    "f(x)=5.161+0.144x,\n",
    "$$\n",
    "con error cuadrático acumulado de 308.35."
   ]
  },
  {
   "cell_type": "code",
   "execution_count": 42,
   "metadata": {},
   "outputs": [
    {
     "data": {
      "image/png": "[encoded data removed]",
      "text/plain": [
       "<Figure size 432x288 with 1 Axes>"
      ]
     },
     "metadata": {
      "needs_background": "light"
     },
     "output_type": "display_data"
    }
   ],
   "source": [
    "plt.scatter(x,y,s=5)\n",
    "f=sol_lin.x[0]+sol_lin.x[1]*x # beta[0]+beta[1]*x\n",
    "plt.plot(x,f,'r')\n",
    "plt.grid()"
   ]
  },
  {
   "cell_type": "markdown",
   "metadata": {},
   "source": [
    "## 2. Ajuste polinomial\n",
    "\n",
    "Ahora, considere el siguiente conjunto de datos..."
   ]
  },
  {
   "cell_type": "code",
   "execution_count": 56,
   "metadata": {},
   "outputs": [
    {
     "data": {
      "image/png": "[encoded data removed]",
      "text/plain": [
       "<Figure size 432x288 with 1 Axes>"
      ]
     },
     "metadata": {
      "needs_background": "light"
     },
     "output_type": "display_data"
    }
   ],
   "source": [
    "x=np.linspace(-3/5*np.pi,3/4*np.pi,100)\n",
    "y=np.sin(x)+np.random.uniform(-0.3,0.3,100)\n",
    "plt.scatter(x,y,s=5)\n",
    "plt.grid()"
   ]
  },
  {
   "cell_type": "code",
   "execution_count": 46,
   "metadata": {},
   "outputs": [
    {
     "name": "stdout",
     "output_type": "stream",
     "text": [
      "0\n",
      "1\n",
      "2\n",
      "3\n",
      "4\n",
      "5\n"
     ]
    }
   ],
   "source": [
    "n=5\n",
    "for i in range(n+1):\n",
    "    print(i)"
   ]
  },
  {
   "cell_type": "code",
   "execution_count": 48,
   "metadata": {},
   "outputs": [
    {
     "data": {
      "text/plain": [
       "3"
      ]
     },
     "execution_count": 48,
     "metadata": {},
     "output_type": "execute_result"
    }
   ],
   "source": [
    "beta=np.array([1,2,3,4])\n",
    "len(beta)-1"
   ]
  },
  {
   "cell_type": "code",
   "execution_count": 57,
   "metadata": {},
   "outputs": [
    {
     "data": {
      "text/plain": [
       "(12.154000000000003, 12.154000000000003)"
      ]
     },
     "execution_count": 57,
     "metadata": {},
     "output_type": "execute_result"
    }
   ],
   "source": [
    "# Obtención del modelo polinomial\n",
    "def f(x,beta):\n",
    "    n=len(beta)-1\n",
    "    X=np.array([x**i for i in range(n+1)])\n",
    "    return beta@X\n",
    "x_=1.1\n",
    "f(x_,beta),beta[0]+beta[1]*x_+beta[2]*x_**2+beta[3]*x_**3"
   ]
  },
  {
   "cell_type": "code",
   "execution_count": 51,
   "metadata": {},
   "outputs": [],
   "source": [
    "# Modificamos la función objetivo\n",
    "def obj_pol(beta,x,y):\n",
    "    n=len(beta)-1\n",
    "    X=np.array([x**i for i in range(n+1)])\n",
    "    f=beta@X # modelo polinomial a optimizar\n",
    "    return np.sum((y-f)**2)"
   ]
  },
  {
   "cell_type": "code",
   "execution_count": 58,
   "metadata": {},
   "outputs": [
    {
     "data": {
      "text/plain": [
       "      fun: 6.82070397478658\n",
       " hess_inv: array([[ 0.00518152, -0.00077039],\n",
       "       [-0.00077039,  0.00326962]])\n",
       "      jac: array([1.78813934e-07, 2.38418579e-07])\n",
       "  message: 'Optimization terminated successfully.'\n",
       "     nfev: 24\n",
       "      nit: 5\n",
       "     njev: 8\n",
       "   status: 0\n",
       "  success: True\n",
       "        x: array([-0.03322108,  0.59823654])"
      ]
     },
     "execution_count": 58,
     "metadata": {},
     "output_type": "execute_result"
    }
   ],
   "source": [
    "# Polinomio de grado uno\n",
    "beta0=np.random.rand(2)\n",
    "sol_1=opt.minimize(obj_pol,beta0,args=(x,y))\n",
    "sol_1"
   ]
  },
  {
   "cell_type": "code",
   "execution_count": 59,
   "metadata": {},
   "outputs": [
    {
     "data": {
      "image/png": "[encoded data removed]",
      "text/plain": [
       "<Figure size 432x288 with 1 Axes>"
      ]
     },
     "metadata": {
      "needs_background": "light"
     },
     "output_type": "display_data"
    }
   ],
   "source": [
    "plt.scatter(x,y,s=5)\n",
    "plt.plot(x,f(x,sol_1.x),'r')\n",
    "plt.grid()"
   ]
  },
  {
   "cell_type": "markdown",
   "metadata": {},
   "source": [
    "---\n",
    "Resumen"
   ]
  },
  {
   "cell_type": "code",
   "execution_count": 1,
   "metadata": {},
   "outputs": [],
   "source": [
    "import numpy as np\n",
    "import matplotlib.pyplot as plt\n",
    "import scipy.optimize as opt"
   ]
  },
  {
   "cell_type": "code",
   "execution_count": 18,
   "metadata": {},
   "outputs": [
    {
     "data": {
      "image/png": "[encoded data removed]",
      "text/plain": [
       "<Figure size 432x288 with 1 Axes>"
      ]
     },
     "metadata": {
      "needs_background": "light"
     },
     "output_type": "display_data"
    }
   ],
   "source": [
    "x=np.random.uniform(-3/5*np.pi,3/4*np.pi,100)\n",
    "y=np.sin(x)+np.random.uniform(-0.3,0.3,100)\n",
    "plt.scatter(x,y,s=5)\n",
    "plt.grid()"
   ]
  },
  {
   "cell_type": "code",
   "execution_count": 19,
   "metadata": {},
   "outputs": [],
   "source": [
    "# Modelo a ajustar (polinomio)\n",
    "def f(x,beta):\n",
    "    # vemos de qué orden debe ser el polinomio\n",
    "    n=len(beta)-1\n",
    "    # definimos el vector de potencias para 'x'\n",
    "    X=np.array([x**i for i in range(n+1)]) # [x**0, x**1, x**2, ..., x**n]\n",
    "    return beta@X # np.dot(beta,X) producto punto"
   ]
  },
  {
   "cell_type": "code",
   "execution_count": 20,
   "metadata": {},
   "outputs": [],
   "source": [
    "# Función objetivo a minimizar (mínimos cuadrados)\n",
    "def obj(beta,x,y):\n",
    "    # usamos la 'f' externa como la función que vamos aproximar\n",
    "    return np.sum((y-f(x,beta))**2)"
   ]
  },
  {
   "cell_type": "code",
   "execution_count": 21,
   "metadata": {},
   "outputs": [
    {
     "data": {
      "text/plain": [
       "      fun: 9.114318040255458\n",
       " hess_inv: array([[ 0.00507905, -0.0005052 ],\n",
       "       [-0.0005052 ,  0.00322883]])\n",
       "      jac: array([-1.19209290e-07, -3.57627869e-07])\n",
       "  message: 'Optimization terminated successfully.'\n",
       "     nfev: 18\n",
       "      nit: 4\n",
       "     njev: 6\n",
       "   status: 0\n",
       "  success: True\n",
       "        x: array([-0.07320976,  0.56663498])"
      ]
     },
     "execution_count": 21,
     "metadata": {},
     "output_type": "execute_result"
    }
   ],
   "source": [
    "# Aproximamos el polinomio lineal\n",
    "beta0=np.random.rand(2)\n",
    "sol_1=opt.minimize(obj,beta0,args=(x,y))\n",
    "sol_1"
   ]
  },
  {
   "cell_type": "markdown",
   "metadata": {},
   "source": [
    "El modelo lineal que mejor se aproxima al conjunto de datos $(x,y)$ es\n",
    "$$\n",
    "y=-0.0737+0.586x,\n",
    "$$\n",
    "con un error cuadrático acumulado de $7.965$."
   ]
  },
  {
   "cell_type": "code",
   "execution_count": 22,
   "metadata": {},
   "outputs": [
    {
     "data": {
      "image/png": "[encoded data removed]",
      "text/plain": [
       "<Figure size 432x288 with 1 Axes>"
      ]
     },
     "metadata": {
      "needs_background": "light"
     },
     "output_type": "display_data"
    }
   ],
   "source": [
    "# Gráfica\n",
    "plt.scatter(x,y,s=5)\n",
    "plt.plot(x,f(x,sol_1.x),'r')\n",
    "plt.grid()"
   ]
  },
  {
   "cell_type": "markdown",
   "metadata": {},
   "source": [
    "---"
   ]
  },
  {
   "cell_type": "code",
   "execution_count": 23,
   "metadata": {},
   "outputs": [
    {
     "data": {
      "text/plain": [
       "      fun: 7.459337394770032\n",
       " hess_inv: array([[ 0.01072364,  0.00110322, -0.00374835],\n",
       "       [ 0.00110322,  0.00368715, -0.00106809],\n",
       "       [-0.00374835, -0.00106809,  0.00248913]])\n",
       "      jac: array([2.38418579e-06, 2.32458115e-06, 8.46385956e-06])\n",
       "  message: 'Optimization terminated successfully.'\n",
       "     nfev: 36\n",
       "      nit: 4\n",
       "     njev: 9\n",
       "   status: 0\n",
       "  success: True\n",
       "        x: array([ 0.06347745,  0.60558402, -0.09076844])"
      ]
     },
     "execution_count": 23,
     "metadata": {},
     "output_type": "execute_result"
    }
   ],
   "source": [
    "# Polinomio de orden dos\n",
    "beta0=np.random.rand(3) # Tres valores aleatorios\n",
    "sol_2=opt.minimize(obj,beta0,args=(x,y))\n",
    "sol_2"
   ]
  },
  {
   "cell_type": "markdown",
   "metadata": {},
   "source": [
    "El mejor modelo polinomial de orden dos es\n",
    "$$\n",
    "0.0968+0.6336x-0.1050x^2,\n",
    "$$\n",
    "con un error cuadrático acumulado de $5.902$."
   ]
  },
  {
   "cell_type": "code",
   "execution_count": 26,
   "metadata": {},
   "outputs": [
    {
     "data": {
      "image/png": "[encoded data removed]",
      "text/plain": [
       "<Figure size 432x288 with 1 Axes>"
      ]
     },
     "metadata": {
      "needs_background": "light"
     },
     "output_type": "display_data"
    }
   ],
   "source": [
    "# Gráfica\n",
    "plt.scatter(x,y,s=5)\n",
    "plt.scatter(x,f(x,sol_2.x),c='r',s=5)\n",
    "plt.grid()"
   ]
  },
  {
   "cell_type": "code",
   "execution_count": 31,
   "metadata": {},
   "outputs": [],
   "source": [
    "# Ahora todos los polinomios juntos\n",
    "#\n",
    "# Creamos una lista con las soluciones\n",
    "sol=[]"
   ]
  },
  {
   "cell_type": "code",
   "execution_count": 32,
   "metadata": {},
   "outputs": [
    {
     "data": {
      "text/plain": [
       "[1]"
      ]
     },
     "execution_count": 32,
     "metadata": {},
     "output_type": "execute_result"
    }
   ],
   "source": [
    "sol.append(1)\n",
    "sol"
   ]
  },
  {
   "cell_type": "code",
   "execution_count": 33,
   "metadata": {},
   "outputs": [
    {
     "data": {
      "text/plain": [
       "[1, 2]"
      ]
     },
     "execution_count": 33,
     "metadata": {},
     "output_type": "execute_result"
    }
   ],
   "source": [
    "sol.append(2)\n",
    "sol"
   ]
  },
  {
   "cell_type": "code",
   "execution_count": 34,
   "metadata": {},
   "outputs": [],
   "source": [
    "# La definimos de nuevo para borrar los datos\n",
    "sol=[]"
   ]
  },
  {
   "cell_type": "code",
   "execution_count": 35,
   "metadata": {},
   "outputs": [],
   "source": [
    "N=5\n",
    "for n in range(N): # 'n' va a tomar valores desde 0 hasta 4\n",
    "    beta0=np.random.rand(n+2)\n",
    "    sol.append(opt.minimize(obj,beta0,args=(x,y)))"
   ]
  },
  {
   "cell_type": "code",
   "execution_count": 36,
   "metadata": {},
   "outputs": [
    {
     "data": {
      "text/plain": [
       "      fun: 9.114318040255457\n",
       " hess_inv: array([[ 0.00507905, -0.0005052 ],\n",
       "       [-0.0005052 ,  0.00322883]])\n",
       "      jac: array([ 1.1920929e-07, -1.1920929e-07])\n",
       "  message: 'Optimization terminated successfully.'\n",
       "     nfev: 18\n",
       "      nit: 4\n",
       "     njev: 6\n",
       "   status: 0\n",
       "  success: True\n",
       "        x: array([-0.07320976,  0.56663498])"
      ]
     },
     "execution_count": 36,
     "metadata": {},
     "output_type": "execute_result"
    }
   ],
   "source": [
    "sol[0] # Polinomio de orden uno"
   ]
  },
  {
   "cell_type": "code",
   "execution_count": 37,
   "metadata": {},
   "outputs": [
    {
     "data": {
      "text/plain": [
       "      fun: 7.459337394770061\n",
       " hess_inv: array([[ 0.01072364,  0.00110322, -0.00374835],\n",
       "       [ 0.00110322,  0.00368715, -0.00106809],\n",
       "       [-0.00374835, -0.00106809,  0.00248913]])\n",
       "      jac: array([-2.98023224e-07, -2.98023224e-07,  0.00000000e+00])\n",
       "  message: 'Optimization terminated successfully.'\n",
       "     nfev: 40\n",
       "      nit: 6\n",
       "     njev: 10\n",
       "   status: 0\n",
       "  success: True\n",
       "        x: array([ 0.06347745,  0.60558402, -0.09076845])"
      ]
     },
     "execution_count": 37,
     "metadata": {},
     "output_type": "execute_result"
    }
   ],
   "source": [
    "sol[1] # Solución del polinomio de orden dos"
   ]
  },
  {
   "cell_type": "code",
   "execution_count": 42,
   "metadata": {},
   "outputs": [
    {
     "data": {
      "image/png": "[encoded data removed]",
      "text/plain": [
       "<Figure size 432x288 with 1 Axes>"
      ]
     },
     "metadata": {
      "needs_background": "light"
     },
     "output_type": "display_data"
    }
   ],
   "source": [
    "# Gráfica\n",
    "plt.scatter(x,y,s=5)\n",
    "x_ordenada=np.linspace(-3/5*np.pi,3/4*np.pi,100)\n",
    "for n in range(N):\n",
    "    plt.plot(x_ordenada,f(x_ordenada,sol[n].x),label='Polinomio de orden '+str(n+1))\n",
    "plt.legend()\n",
    "plt.grid()"
   ]
  },
  {
   "cell_type": "code",
   "execution_count": 44,
   "metadata": {},
   "outputs": [
    {
     "data": {
      "image/png": "[encoded data removed]",
      "text/plain": [
       "<Figure size 432x288 with 1 Axes>"
      ]
     },
     "metadata": {
      "needs_background": "light"
     },
     "output_type": "display_data"
    }
   ],
   "source": [
    "# Errores\n",
    "for n in range(N):\n",
    "    plt.scatter(n+1,sol[n].fun)\n",
    "plt.xlabel('Orden del polinomio')\n",
    "plt.ylabel('Error cuadrático acumulado')\n",
    "plt.grid()"
   ]
  },
  {
   "cell_type": "code",
   "execution_count": 45,
   "metadata": {},
   "outputs": [
    {
     "data": {
      "text/plain": [
       "array([-0.008318  ,  0.98148542, -0.00231544, -0.1385437 ])"
      ]
     },
     "execution_count": 45,
     "metadata": {},
     "output_type": "execute_result"
    }
   ],
   "source": [
    "sol[2].x # Polinomio de orden 3"
   ]
  },
  {
   "cell_type": "code",
   "execution_count": 46,
   "metadata": {},
   "outputs": [
    {
     "data": {
      "text/plain": [
       "array([ 0.01404459,  1.00040153, -0.0537808 , -0.14919413,  0.01370147])"
      ]
     },
     "execution_count": 46,
     "metadata": {},
     "output_type": "execute_result"
    }
   ],
   "source": [
    "sol[3].x # Polinomio de orden 4"
   ]
  },
  {
   "cell_type": "code",
   "execution_count": 47,
   "metadata": {},
   "outputs": [
    {
     "data": {
      "text/plain": [
       "array([ 1.40137131e-02,  1.00053507e+00, -5.36860484e-02, -1.49338997e-01,\n",
       "        1.36694199e-02,  3.09985877e-05])"
      ]
     },
     "execution_count": 47,
     "metadata": {},
     "output_type": "execute_result"
    }
   ],
   "source": [
    "sol[4].x # Polinomio de orden 5"
   ]
  },
  {
   "cell_type": "markdown",
   "metadata": {},
   "source": [
    "## 3. Regularización\n",
    "\n",
    "Vimos que la solución de mínimos cuadrados es:\n",
    "$$\\boldsymbol{\\beta}^{ls} = \\arg \\min_{\\boldsymbol{\\beta}} \\left|\\left|\\boldsymbol{y}-\\boldsymbol{X}\\boldsymbol{\\beta}\\right|\\right|^2.$$\n",
    "\n",
    "Sin embargo, si crecemos el orden del modelo hay overfitting y algunos coeficientes óptimos $\\boldsymbol{\\beta}$ crecen muchísimo. Que un coeficiente sea muy grande, significa que se le da mucha importancia a alguna característica (que quizá sea ruido... no sirve para predecir).\n",
    "\n",
    "La regularización consiste en penalizar la magnitud de los coeficientes $\\boldsymbol{\\beta}$ en el problema de optimización, para que no crezcan tanto. "
   ]
  },
  {
   "cell_type": "markdown",
   "metadata": {},
   "source": [
    "### 3.1. Ridge\n",
    "\n",
    "$$\\boldsymbol{\\beta}^{ridge} = \\arg \\min_{\\boldsymbol{\\beta}} \\left|\\left|\\boldsymbol{y}-\\boldsymbol{X}\\boldsymbol{\\beta}\\right|\\right|^2 + \\lambda\\left|\\left|\\boldsymbol{\\beta}\\right|\\right|^2$$"
   ]
  },
  {
   "cell_type": "code",
   "execution_count": 48,
   "metadata": {},
   "outputs": [],
   "source": [
    "# Definimos otra función objetivo\n",
    "def ridge(beta,x,y,l=0):\n",
    "    # Usamos de nuevo la función 'f' externa\n",
    "    return np.sum((y-f(x,beta))**2)+l*np.sum(beta**2)"
   ]
  },
  {
   "cell_type": "code",
   "execution_count": 60,
   "metadata": {},
   "outputs": [
    {
     "data": {
      "image/png": "[encoded data removed]",
      "text/plain": [
       "<Figure size 432x288 with 1 Axes>"
      ]
     },
     "metadata": {
      "needs_background": "light"
     },
     "output_type": "display_data"
    }
   ],
   "source": [
    "sol_r=[]\n",
    "for n in range(N):\n",
    "    beta0=np.random.rand(n+2)\n",
    "    sol_r.append(opt.minimize(ridge,beta0,args=(x,y,100)))\n",
    "plt.scatter(x,y,s=5)\n",
    "for n in range(N):\n",
    "    plt.plot(x_ordenada,f(x_ordenada,sol_r[n].x),label='Pol. '+str(n+1))\n",
    "plt.legend()\n",
    "plt.grid()"
   ]
  },
  {
   "cell_type": "markdown",
   "metadata": {},
   "source": [
    "### 3.2. Lasso\n",
    "\n",
    "$$\\boldsymbol{\\beta}^{lasso} = \\arg \\min_{\\boldsymbol{\\beta}} \\left|\\left|\\boldsymbol{y}-\\boldsymbol{X}\\boldsymbol{\\beta}\\right|\\right|^2 + \\lambda\\left|\\left|\\boldsymbol{\\beta}\\right|\\right|_1$$\n",
    "\n",
    "La norma 1 no es más que la suma de los valores absolutos de las componentes $\\left|\\left|\\boldsymbol{\\beta}\\right|\\right|_1=\\sum_{j=0}^m\\left|\\beta_j\\right|$."
   ]
  },
  {
   "cell_type": "code",
   "execution_count": 61,
   "metadata": {},
   "outputs": [],
   "source": [
    "# Definimos la función objetivo\n",
    "def lasso(beta,x,y,l=0):\n",
    "    return np.sum((y-f(x,beta))**2)+l*np.sum(np.abs(beta))"
   ]
  },
  {
   "cell_type": "code",
   "execution_count": 70,
   "metadata": {},
   "outputs": [
    {
     "data": {
      "image/png": "[encoded data removed]",
      "text/plain": [
       "<Figure size 432x288 with 1 Axes>"
      ]
     },
     "metadata": {
      "needs_background": "light"
     },
     "output_type": "display_data"
    }
   ],
   "source": [
    "sol_l=[]\n",
    "for n in range(N):\n",
    "    beta0=np.random.rand(n+2)\n",
    "    sol_l.append(opt.minimize(lasso,beta0,args=(x,y,10)))\n",
    "plt.scatter(x,y,s=5)\n",
    "for n in range(N):\n",
    "    plt.plot(x_ordenada,f(x_ordenada,sol_l[n].x),label='Pol. '+str(n+1))\n",
    "plt.legend()\n",
    "plt.grid()"
   ]
  },
  {
   "cell_type": "code",
   "execution_count": 71,
   "metadata": {},
   "outputs": [
    {
     "data": {
      "text/plain": [
       "array([-3.52350878e-09,  7.46597246e-01, -1.78140155e-02, -6.88183786e-02])"
      ]
     },
     "execution_count": 71,
     "metadata": {},
     "output_type": "execute_result"
    }
   ],
   "source": [
    "sol_l[2].x"
   ]
  },
  {
   "cell_type": "code",
   "execution_count": 72,
   "metadata": {},
   "outputs": [
    {
     "data": {
      "text/plain": [
       "array([-1.37023851e-09,  7.08723000e-01, -1.00872858e-08, -4.88233516e-02,\n",
       "       -1.10991121e-02])"
      ]
     },
     "execution_count": 72,
     "metadata": {},
     "output_type": "execute_result"
    }
   ],
   "source": [
    "sol_l[3].x"
   ]
  },
  {
   "cell_type": "code",
   "execution_count": 73,
   "metadata": {},
   "outputs": [
    {
     "data": {
      "text/plain": [
       "array([-9.49313338e-08,  7.18790258e-01, -9.50869852e-09, -1.52052332e-09,\n",
       "       -1.13498298e-03, -1.66558354e-02])"
      ]
     },
     "execution_count": 73,
     "metadata": {},
     "output_type": "execute_result"
    }
   ],
   "source": [
    "sol_l[4].x"
   ]
  },
  {
   "cell_type": "code",
   "execution_count": null,
   "metadata": {},
   "outputs": [],
   "source": []
  }
 ],
 "metadata": {
  "kernelspec": {
   "display_name": "Python 3",
   "language": "python",
   "name": "python3"
  },
  "language_info": {
   "codemirror_mode": {
    "name": "ipython",
    "version": 3
   },
   "file_extension": ".py",
   "mimetype": "text/x-python",
   "name": "python",
   "nbconvert_exporter": "python",
   "pygments_lexer": "ipython3",
   "version": "3.8.8"
  }
 },
 "nbformat": 4,
 "nbformat_minor": 2
}
