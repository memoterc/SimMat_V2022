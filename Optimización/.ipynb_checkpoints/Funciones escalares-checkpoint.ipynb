{
 "cells": [
  {
   "cell_type": "markdown",
   "metadata": {
    "colab_type": "text",
    "id": "8vITRYq-Tdwq"
   },
   "source": [
    "# Optimización de funciones escalares diferenciables con `SymPy`\n",
    "\n",
    "<img style=\"float: right; margin: 0px 0px 15px 15px;\" src=\"https://upload.wikimedia.org/wikipedia/commons/thumb/b/b6/Extrema_example_es.svg/1200px-Extrema_example_es.svg.png\" width=\"300px\" height=\"100px\" />\n",
    "\n",
    "- Mediante optimización se obtienen soluciones elegantes tanto en teoría como en ciertas aplicaciones. \n",
    "- La teoría de optimización usa elementos comenzando con cálculo elemental y álgebra lineal básica, y luego se extiende con análisis funcional y convexo.\n",
    "- Las aplicaciones en optimización involucran ciencia, ingeniería, economía, finanzas e industria.\n",
    "- El amplio y creciente uso de la optimización lo hace escencial para estudiantes y profesionales de cualquier rama de la ciencia y la tecnología.\n",
    "\n",
    "**Referencia:**\n",
    "- http://www.math.uwaterloo.ca/~hwolkowi//henry/reports/talks.d/t06talks.d/06msribirs.d/optimportance.shtml\n",
    "\n"
   ]
  },
  {
   "cell_type": "markdown",
   "metadata": {
    "colab_type": "text",
    "id": "gTdZipcKTdwz"
   },
   "source": [
    "<img style=\"float: right; margin: 0px 0px 15px 15px;\" src=\"https://upload.wikimedia.org/wikipedia/commons/thumb/e/e7/OpenStreetMap_routing_service.png/300px-OpenStreetMap_routing_service.png\" width=\"300px\" height=\"100px\" />\n",
    "\n",
    "### Algunas aplicaciones son:\n",
    "\n",
    "1. **Ingeniería:**\n",
    " - Encontrar la composición de equilibrio de una mezcla de diferentes átomos.\n",
    " - Planeación de ruta para un robot (o vehículo aéreo no tripulado).\n",
    " - Planeación de la mano de obra óptima en una construcción o planta de producción.\n",
    " - Análisis conformacional - Isomería conformacional en modelado molecular\n",
    " - Desempeño en fermentación de productos.\n",
    " - Estimación de parámetros en bioquímica e ingeniería metabólica.\n",
    " \n",
    " \n",
    "2. **Distribución óptima de recursos:**\n",
    " - Distribución de rutas de vuelo.\n",
    " - Encontrar una dieta óptima.\n",
    " - Planeación de ruta óptima.\n",
    " \n",
    " \n",
    "3. **Optimización financiera:**\n",
    " - Administración de riesgos.\n",
    " - Portafolios de inversión.\n",
    " - Problema de maximización de la utilidad.\n",
    " - la calibración de modelos de precios de opciones para datos de mercado\n",
    " - la optimización de la función de utilidad de un agente"
   ]
  },
  {
   "cell_type": "markdown",
   "metadata": {
    "colab_type": "text",
    "id": "iwfHYBvETdw5"
   },
   "source": [
    "### <p style=\"color:green;\">En esta clase veremos aspectos básicos de optimización. Específicamente, veremos cómo obtener máximos y mínimos de una función escalar de una variable (como en cálculo diferencial).</p>\n",
    "\n",
    "<img style=\"float: center\" src=\"https://matematicasies.com/local/cache-vignettes/L337xH278/extremos-77d0a.png\" width=\"400px\" height=\"100px\" />"
   ]
  },
  {
   "cell_type": "markdown",
   "metadata": {
    "colab_type": "text",
    "id": "7uLPJbcWTdxA"
   },
   "source": [
    "___\n",
    "## 0. Librerías que usaremos\n",
    "<img style=\"float: center\" src=\"https://upload.wikimedia.org/wikipedia/commons/thumb/4/4a/Python3-powered_hello-world.svg/1000px-Python3-powered_hello-world.svg.png\" width=\"300px\" height=\"100px\" />\n"
   ]
  },
  {
   "cell_type": "markdown",
   "metadata": {
    "colab_type": "text",
    "id": "Ik4wEfofTdxF"
   },
   "source": [
    "### 0.1 `NumPy`\n",
    "\n",
    "<img style=\"float: right; margin: 0px 0px 15px 15px;\" src=\"https://numpy.org/images/logo.svg\" width=\"300px\" height=\"100px\" />\n",
    "\n",
    "`NumPy` (Numerical Python) es la librería fundamental para computación científica (numérica) con `Python`. Contiene, entre otras cosas:\n",
    "- un objeto tipo arreglo N-dimensional muy poderoso\n",
    "- funciones sofisticadas\n",
    "- funciones de álgebra lineal, transformada de Fourier y números aleatorios.\n",
    "\n",
    "Por lo anterior, `NumPy` es de amplio uso entre la comunidad científica e ingenieril (por su manejo de cantidades vectoriales). De la misma manera, se usa para guardar datos. Para nuestros propósitos, se puede usar libremente.\n",
    "\n",
    "**Referencia:**\n",
    "- http://www.numpy.org/"
   ]
  },
  {
   "cell_type": "markdown",
   "metadata": {
    "colab_type": "text",
    "id": "9O6a9kpVTdxK"
   },
   "source": [
    "`NumPy` ya viene incluido en la instalación estándar de Anaconda por defecto. Para comenzar a usarlo, solo debemos de importarlo:"
   ]
  },
  {
   "cell_type": "code",
<<<<<<< HEAD
   "execution_count": 1,
=======
   "execution_count": 5,
>>>>>>> main
   "metadata": {
    "colab": {},
    "colab_type": "code",
    "id": "wBki0z8DTdxP"
   },
   "outputs": [],
   "source": [
    "# Importar librería numpy\n",
    "import numpy as np"
   ]
  },
  {
   "cell_type": "code",
<<<<<<< HEAD
   "execution_count": 4,
=======
   "execution_count": 2,
>>>>>>> main
   "metadata": {},
   "outputs": [
    {
     "data": {
      "text/plain": [
       "2.718281828459045"
      ]
     },
<<<<<<< HEAD
     "execution_count": 4,
=======
     "execution_count": 2,
>>>>>>> main
     "metadata": {},
     "output_type": "execute_result"
    }
   ],
   "source": [
    "np.e"
   ]
  },
  {
   "cell_type": "code",
<<<<<<< HEAD
   "execution_count": 6,
=======
   "execution_count": 3,
>>>>>>> main
   "metadata": {},
   "outputs": [
    {
     "data": {
      "text/plain": [
       "3.141592653589793"
      ]
     },
<<<<<<< HEAD
     "execution_count": 6,
=======
     "execution_count": 3,
>>>>>>> main
     "metadata": {},
     "output_type": "execute_result"
    }
   ],
   "source": [
    "np.pi"
   ]
  },
  {
   "cell_type": "code",
<<<<<<< HEAD
   "execution_count": 8,
=======
   "execution_count": 5,
   "metadata": {},
   "outputs": [
    {
     "data": {
      "text/plain": [
       "6.123233995736766e-17"
      ]
     },
     "execution_count": 5,
     "metadata": {},
     "output_type": "execute_result"
    }
   ],
   "source": [
    "np.cos(np.pi/2)"
   ]
  },
  {
   "cell_type": "code",
   "execution_count": 6,
>>>>>>> main
   "metadata": {},
   "outputs": [
    {
     "data": {
      "text/plain": [
       "array([ 1, -1,  0])"
      ]
     },
<<<<<<< HEAD
     "execution_count": 8,
=======
     "execution_count": 6,
>>>>>>> main
     "metadata": {},
     "output_type": "execute_result"
    }
   ],
   "source": [
<<<<<<< HEAD
    "np.array([1, -1, 0])"
=======
    "np.array([1,-1,0]) # vector"
>>>>>>> main
   ]
  },
  {
   "cell_type": "code",
<<<<<<< HEAD
   "execution_count": 9,
=======
   "execution_count": 7,
>>>>>>> main
   "metadata": {},
   "outputs": [
    {
     "data": {
      "text/plain": [
       "array([-1.        , -0.77777778, -0.55555556, -0.33333333, -0.11111111,\n",
       "        0.11111111,  0.33333333,  0.55555556,  0.77777778,  1.        ])"
      ]
     },
<<<<<<< HEAD
     "execution_count": 9,
=======
     "execution_count": 7,
>>>>>>> main
     "metadata": {},
     "output_type": "execute_result"
    }
   ],
   "source": [
<<<<<<< HEAD
    "np.linspace(-1, 1, 10) #Genera una secuencia de valores equidistantes"
=======
    "np.linspace(-1,1,10) # Genera una secuencia de 10 valores equidistantes entre -1 y 1"
>>>>>>> main
   ]
  },
  {
   "cell_type": "markdown",
   "metadata": {
    "colab_type": "text",
    "id": "6Ccg3wKhTdxg"
   },
   "source": [
    "### 0.2 `SymPy`\n",
    "\n",
    "<img style=\"float: right; margin: 0px 0px 15px 15px;\" src=\"http://www.sympy.org/static/images/logo.png\" width=\"300px\" height=\"100px\" />\n",
    "\n",
    "`SymPy` (Symbolic Python) es una librería de `Python` para matemáticas simbólicas. Su objetivo es convertirse en un sistema de álgebra computacional con las mejores características, manteniendo el código lo más simple posible para que sea comprensible.\n",
    "\n",
    "**Referencia:**\n",
    "- http://www.sympy.org/en/index.html"
   ]
  },
  {
   "cell_type": "markdown",
   "metadata": {
    "colab_type": "text",
    "id": "T5bDWTY_Tdxl"
   },
   "source": [
    "`SymPy` ya viene incluido en la instalación estándar de Anaconda por defecto. Para comenzar a usarlo, solo debemos de importarlo:"
   ]
  },
  {
   "cell_type": "code",
<<<<<<< HEAD
   "execution_count": 11,
=======
   "execution_count": 8,
>>>>>>> main
   "metadata": {
    "colab": {},
    "colab_type": "code",
    "id": "cU5vlIkoTdxq"
   },
   "outputs": [],
   "source": [
    "#Importarmos la librería sympy\n",
    "import sympy as sym"
   ]
  },
  {
   "cell_type": "code",
<<<<<<< HEAD
   "execution_count": 13,
=======
   "execution_count": 9,
>>>>>>> main
   "metadata": {},
   "outputs": [],
   "source": [
    "# Ayuda de la función\n",
    "sym.var?"
   ]
  },
  {
   "cell_type": "code",
<<<<<<< HEAD
   "execution_count": 16,
=======
   "execution_count": 10,
>>>>>>> main
   "metadata": {},
   "outputs": [
    {
     "data": {
      "text/latex": [
       "$\\displaystyle x$"
      ],
      "text/plain": [
       "x"
      ]
     },
<<<<<<< HEAD
     "execution_count": 16,
=======
     "execution_count": 10,
>>>>>>> main
     "metadata": {},
     "output_type": "execute_result"
    }
   ],
   "source": [
<<<<<<< HEAD
    "sym.var('x') #Definimos 'x' como simbólica"
=======
    "sym.var('x') # definimos 'x' como simbólica"
>>>>>>> main
   ]
  },
  {
   "cell_type": "code",
<<<<<<< HEAD
   "execution_count": 18,
=======
   "execution_count": 11,
>>>>>>> main
   "metadata": {},
   "outputs": [
    {
     "data": {
      "text/latex": [
       "$\\displaystyle \\pi$"
      ],
      "text/plain": [
       "pi"
      ]
     },
<<<<<<< HEAD
     "execution_count": 18,
=======
     "execution_count": 11,
>>>>>>> main
     "metadata": {},
     "output_type": "execute_result"
    }
   ],
   "source": [
<<<<<<< HEAD
    "sym.pi\n"
=======
    "sym.pi"
>>>>>>> main
   ]
  },
  {
   "cell_type": "code",
<<<<<<< HEAD
   "execution_count": 20,
=======
   "execution_count": 15,
>>>>>>> main
   "metadata": {},
   "outputs": [
    {
     "data": {
      "text/latex": [
       "$\\displaystyle \\sin{\\left(x \\right)}$"
      ],
      "text/plain": [
       "sin(x)"
      ]
     },
<<<<<<< HEAD
     "execution_count": 20,
=======
     "execution_count": 15,
>>>>>>> main
     "metadata": {},
     "output_type": "execute_result"
    }
   ],
   "source": [
    "sym.sin(x)"
   ]
  },
  {
   "cell_type": "markdown",
   "metadata": {
    "colab_type": "text",
    "id": "gjOLQEXhTdx5"
   },
   "source": [
    "La funcionalidad de imprimir en formato LaTex que nos da `SymPy` mediante el proyecto `mathjax` hace de `SymPy` una herramienta muy atractiva..."
   ]
  },
  {
   "cell_type": "markdown",
   "metadata": {
    "colab_type": "text",
    "id": "UrAXbps6Tdx-"
   },
   "source": [
    "Notar que en `SymPy` y en `NumPy` existen funciones con el mismo nombre, pero reciben tipos de datos diferentes..."
   ]
  },
  {
   "cell_type": "markdown",
   "metadata": {
    "colab_type": "text",
    "id": "KeFOROWHTdyj"
   },
   "source": [
    "Explicar el uso de la sintaxis `from numpy import *` y sus peligros (**no recomendable**)."
   ]
  },
  {
   "cell_type": "code",
<<<<<<< HEAD
   "execution_count": 22,
=======
   "execution_count": 16,
>>>>>>> main
   "metadata": {},
   "outputs": [],
   "source": [
    "from numpy import *"
   ]
  },
  {
   "cell_type": "code",
<<<<<<< HEAD
   "execution_count": 24,
=======
   "execution_count": 17,
>>>>>>> main
   "metadata": {},
   "outputs": [
    {
     "data": {
      "text/plain": [
       "3.141592653589793"
      ]
     },
<<<<<<< HEAD
     "execution_count": 24,
=======
     "execution_count": 17,
>>>>>>> main
     "metadata": {},
     "output_type": "execute_result"
    }
   ],
   "source": [
    "pi"
   ]
  },
  {
   "cell_type": "code",
<<<<<<< HEAD
   "execution_count": 26,
   "metadata": {},
   "outputs": [
    {
     "data": {
      "text/plain": [
       "2.718281828459045"
      ]
     },
     "execution_count": 26,
     "metadata": {},
     "output_type": "execute_result"
    }
   ],
   "source": [
    "e"
   ]
  },
  {
   "cell_type": "code",
   "execution_count": 28,
=======
   "execution_count": 18,
>>>>>>> main
   "metadata": {},
   "outputs": [
    {
     "data": {
      "text/plain": [
       "1.0"
      ]
     },
<<<<<<< HEAD
     "execution_count": 28,
=======
     "execution_count": 18,
>>>>>>> main
     "metadata": {},
     "output_type": "execute_result"
    }
   ],
   "source": [
    "sin(pi/2)"
   ]
  },
  {
   "cell_type": "code",
<<<<<<< HEAD
   "execution_count": 31,
=======
   "execution_count": 19,
>>>>>>> main
   "metadata": {},
   "outputs": [],
   "source": [
    "from sympy import *"
   ]
  },
  {
   "cell_type": "code",
<<<<<<< HEAD
   "execution_count": 33,
=======
   "execution_count": 20,
>>>>>>> main
   "metadata": {},
   "outputs": [
    {
     "data": {
      "text/latex": [
       "$\\displaystyle \\pi$"
      ],
      "text/plain": [
       "pi"
      ]
     },
<<<<<<< HEAD
     "execution_count": 33,
=======
     "execution_count": 20,
>>>>>>> main
     "metadata": {},
     "output_type": "execute_result"
    }
   ],
   "source": [
    "pi"
   ]
  },
  {
   "cell_type": "code",
<<<<<<< HEAD
   "execution_count": 34,
   "metadata": {},
   "outputs": [
    {
     "data": {
      "text/plain": [
       "2.718281828459045"
      ]
     },
     "execution_count": 34,
     "metadata": {},
     "output_type": "execute_result"
    }
   ],
   "source": [
    "e"
   ]
  },
  {
   "cell_type": "code",
   "execution_count": 35,
=======
   "execution_count": 21,
>>>>>>> main
   "metadata": {},
   "outputs": [
    {
     "data": {
      "text/latex": [
       "$\\displaystyle \\sin{\\left(x \\right)}$"
      ],
      "text/plain": [
       "sin(x)"
      ]
     },
<<<<<<< HEAD
     "execution_count": 35,
=======
     "execution_count": 21,
>>>>>>> main
     "metadata": {},
     "output_type": "execute_result"
    }
   ],
   "source": [
    "sin(x)"
   ]
  },
  {
   "cell_type": "markdown",
   "metadata": {
    "colab_type": "text",
    "id": "PApadjXXTdy1"
   },
   "source": [
    "### 0.3 `PyPlot` de `matplotlib`\n",
    "\n",
    "<img style=\"float: right; margin: 0px 0px 15px 15px;\" src=\"https://matplotlib.org/_static/logo2.svg\" width=\"300px\" height=\"100px\" />\n",
    "\n",
    "El módulo `PyPlot` de la librería `matplotlib` contiene funciones que nos permite generar una gran cantidad de gráficas rápidamente. Las funciones de este módulo están escritas con el mismo nombre que las funciones para graficar en `Matlab`.\n",
    "\n",
    "**Referencia:**\n",
    "- https://matplotlib.org/api/pyplot_summary.html"
   ]
  },
  {
   "cell_type": "code",
<<<<<<< HEAD
   "execution_count": 37,
=======
   "execution_count": 2,
>>>>>>> main
   "metadata": {
    "colab": {},
    "colab_type": "code",
    "id": "jeyrG5yaTdy5"
   },
   "outputs": [],
   "source": [
    "# importar la librería para graficar\n",
    "import matplotlib.pyplot as plt"
   ]
  },
  {
   "cell_type": "code",
<<<<<<< HEAD
   "execution_count": 43,
   "metadata": {},
   "outputs": [],
   "source": [
    "plt.plot?"
=======
   "execution_count": 7,
   "metadata": {},
   "outputs": [],
   "source": [
    "from matplotlib.pyplot import plot,grid"
>>>>>>> main
   ]
  },
  {
   "cell_type": "code",
<<<<<<< HEAD
   "execution_count": null,
   "metadata": {},
   "outputs": [],
   "source": []
  },
  {
   "cell_type": "code",
   "execution_count": 42,
=======
   "execution_count": 3,
   "metadata": {},
   "outputs": [],
   "source": [
    "plt.plot?"
   ]
  },
  {
   "cell_type": "code",
   "execution_count": 10,
>>>>>>> main
   "metadata": {},
   "outputs": [
    {
     "data": {
<<<<<<< HEAD
      "image/png": "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\n",
=======
      "image/png": "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\n",
>>>>>>> main
      "text/plain": [
       "<Figure size 432x288 with 1 Axes>"
      ]
     },
     "metadata": {
      "needs_background": "light"
     },
     "output_type": "display_data"
    }
   ],
   "source": [
<<<<<<< HEAD
    "x = np.linspace(-1, 5, 100)\n",
    "y = x**2\n",
    "plt.plot(x, y, 'b')\n",
    "plt.grid()"
=======
    "x=np.linspace(-1,5,100)\n",
    "y=x**2\n",
    "plot(x,y,'C1')\n",
    "plot(x,x+1,'C0')\n",
    "grid()"
>>>>>>> main
   ]
  },
  {
   "cell_type": "markdown",
   "metadata": {
    "colab_type": "text",
    "id": "O8veHX8PTdzJ"
   },
   "source": [
    "## 1. Teorema de Fermat (análisis)\n",
    "\n",
    "Si una función $f(x)$ alcanza un máximo o mínimo local en $x=c$, y si la derivada $f'(c)$ existe en el punto $c$, entonces $f'(c) = 0$."
   ]
  },
  {
   "cell_type": "markdown",
   "metadata": {
    "colab_type": "text",
    "id": "ZEUcqZoPTdzO"
   },
   "source": [
    "### Ejemplo\n",
    "\n",
    "Sabemos que la función $f(x)=(x-2)^2$ tiene un mínimo global en $x=2$, pues\n",
    "\n",
    "$$f(x)=(x-2)^2\\geq0,\\qquad\\text{y}\\qquad f(x)=(x-2)^2=0 \\qquad\\text{si y solo si}\\qquad x=2.$$"
   ]
  },
  {
   "cell_type": "code",
<<<<<<< HEAD
   "execution_count": null,
   "metadata": {},
   "outputs": [],
   "source": []
  },
  {
   "cell_type": "markdown",
   "metadata": {
    "colab_type": "text",
    "id": "zRcC_dQOTd0L"
   },
   "source": [
    "Veamos la gráfica..."
=======
   "execution_count": 1,
   "metadata": {},
   "outputs": [],
   "source": [
    "# Importamos de nuevo las librerías\n",
    "import numpy as np              # librería numérica\n",
    "import sympy as sym             # librería simbólica\n",
    "import matplotlib.pyplot as plt # librería gráfica"
   ]
  },
  {
   "cell_type": "code",
   "execution_count": 2,
   "metadata": {},
   "outputs": [
    {
     "data": {
      "text/latex": [
       "$\\displaystyle \\left(x - 2\\right)^{2}$"
      ],
      "text/plain": [
       "(x - 2)**2"
      ]
     },
     "execution_count": 2,
     "metadata": {},
     "output_type": "execute_result"
    }
   ],
   "source": [
    "sym.var('x') # variable simbólica\n",
    "f=(x-2)**2   # definición de la función. El operador ** significa potencia.\n",
    "f            # visualizar la función"
>>>>>>> main
   ]
  },
  {
   "cell_type": "code",
<<<<<<< HEAD
   "execution_count": null,
   "metadata": {
    "colab": {},
    "colab_type": "code",
    "id": "2X9Ahl2LTd0Q"
   },
   "outputs": [],
   "source": [
    "# Convertir función simbólica f a una función numérica\n"
=======
   "execution_count": 3,
   "metadata": {},
   "outputs": [],
   "source": [
    "sym.diff?"
>>>>>>> main
   ]
  },
  {
   "cell_type": "code",
<<<<<<< HEAD
   "execution_count": null,
   "metadata": {
    "colab": {},
    "colab_type": "code",
    "id": "T5Fagnb5Td0i",
    "scrolled": false
   },
   "outputs": [],
   "source": [
    "# Definir coordenas x\n"
=======
   "execution_count": 4,
   "metadata": {},
   "outputs": [
    {
     "data": {
      "text/latex": [
       "$\\displaystyle 2 x - 4$"
      ],
      "text/plain": [
       "2*x - 4"
      ]
     },
     "execution_count": 4,
     "metadata": {},
     "output_type": "execute_result"
    }
   ],
   "source": [
    "df=sym.diff(f,x) # derivamos 'f' con respecto de 'x'\n",
    "df               # visualizamos la derivada de 'f'"
>>>>>>> main
   ]
  },
  {
   "cell_type": "code",
<<<<<<< HEAD
   "execution_count": null,
   "metadata": {
    "colab": {},
    "colab_type": "code",
    "id": "0MV4bEgWTd03"
   },
   "outputs": [],
   "source": [
    "# Graficar:\n",
    "#    Creamos una ventana de gráficos\n",
    "\n",
    "\n",
    "#    Calcular coordenada en y\n",
    "\n",
    "\n",
    "#    Mostrar gráfico\n"
   ]
  },
  {
   "cell_type": "markdown",
   "metadata": {
    "colab_type": "text",
    "id": "aOJhHKhMTd1G"
   },
   "source": [
    "Ver diferencias entre f y f_num"
=======
   "execution_count": 5,
   "metadata": {},
   "outputs": [],
   "source": [
    "sym.solve?"
   ]
  },
  {
   "cell_type": "code",
   "execution_count": 7,
   "metadata": {},
   "outputs": [
    {
     "data": {
      "text/plain": [
       "[2]"
      ]
     },
     "execution_count": 7,
     "metadata": {},
     "output_type": "execute_result"
    }
   ],
   "source": [
    "c=sym.solve(df) # Solución de la derivada igualada a cero\n",
    "c"
>>>>>>> main
   ]
  },
  {
   "cell_type": "code",
<<<<<<< HEAD
   "execution_count": null,
   "metadata": {},
   "outputs": [],
   "source": []
  },
  {
   "cell_type": "markdown",
   "metadata": {
    "colab_type": "text",
    "id": "67SkgnjhTd1g"
   },
   "source": [
    "### **Otra manera de hacer lo anterior**\n",
    "\n",
    "Revisemos el concepto de función en `Python`"
=======
   "execution_count": 8,
   "metadata": {},
   "outputs": [
    {
     "data": {
      "text/latex": [
       "$\\displaystyle 2$"
      ],
      "text/plain": [
       "2"
      ]
     },
     "execution_count": 8,
     "metadata": {},
     "output_type": "execute_result"
    }
   ],
   "source": [
    "# Notita: la variable 'c' es una lista de valores (con un solo valor).\n",
    "# Para acceder a ellos es necesario especificar la posición relativa iniciando en cero\n",
    "c[0]"
>>>>>>> main
   ]
  },
  {
   "cell_type": "code",
<<<<<<< HEAD
   "execution_count": null,
   "metadata": {},
   "outputs": [],
   "source": []
  },
  {
   "cell_type": "markdown",
   "metadata": {
    "colab_type": "text",
    "id": "nJKkfvTVTd2y"
   },
   "source": [
    "**El converso del teorema anterior no es cierto.**\n",
    "\n",
    "### Actividad\n",
    "Considere $g(x)=(x-2)^3$. \n",
    "- Usando `sympy`, muestre que $g'(2)=0$.\n",
    "- Sin embargo, descartar que $x=2$ es un extremo de $g(x)$ viendo su **gráfica**."
=======
   "execution_count": 9,
   "metadata": {},
   "outputs": [
    {
     "data": {
      "text/latex": [
       "$\\displaystyle 2$"
      ],
      "text/plain": [
       "2"
      ]
     },
     "execution_count": 9,
     "metadata": {},
     "output_type": "execute_result"
    }
   ],
   "source": [
    "c[-1] # Nos regresa la última posición"
   ]
  },
  {
   "cell_type": "markdown",
   "metadata": {},
   "source": [
    "---\n",
    "Paréntesis"
>>>>>>> main
   ]
  },
  {
   "cell_type": "code",
<<<<<<< HEAD
   "execution_count": null,
   "metadata": {
    "colab": {},
    "colab_type": "code",
    "id": "aUErJxXjTd21"
   },
   "outputs": [],
   "source": []
  },
  {
   "cell_type": "markdown",
   "metadata": {
    "colab_type": "text",
    "id": "5cHqWJmcTd3A"
   },
   "source": [
    "## 2. Criterio de la segunda derivada\n",
    "\n",
    "Sea $f(x)$ una función tal que $f’(c)=0$ y cuya segunda derivada existe en un intervalo abierto que contiene a $c$.\n",
    "- Si $f’’(c)>0$, entonces $f(c)$ es un mínimo relativo.\n",
    "- Si $f’’(c)<0$, entonces $f(c)$ es un máximo relativo.\n",
    "- Si $f’’(c)=0$, entonces el criterio no decide. "
   ]
  },
  {
   "cell_type": "markdown",
   "metadata": {
    "colab_type": "text",
    "id": "l4NcYjskTd3G"
   },
   "source": [
    "### Ejemplo\n",
    "\n",
    "Mostrar, usando `sympy`, que la función $f(x)=(x-2)^2$ tiene un mínimo relativo en $x=2$.\n",
    "\n",
    "Ya vimos que $f'(2)=0$. Notemos que:"
=======
   "execution_count": 10,
   "metadata": {},
   "outputs": [
    {
     "data": {
      "text/plain": [
       "10"
      ]
     },
     "execution_count": 10,
     "metadata": {},
     "output_type": "execute_result"
    }
   ],
   "source": [
    "# Ejemplo sobre listas:\n",
    "L=[10,9,8,7,6,5]\n",
    "L[0] # Elemento en la posición 0"
   ]
  },
  {
   "cell_type": "code",
   "execution_count": 11,
   "metadata": {},
   "outputs": [
    {
     "data": {
      "text/plain": [
       "9"
      ]
     },
     "execution_count": 11,
     "metadata": {},
     "output_type": "execute_result"
    }
   ],
   "source": [
    "L[1]"
>>>>>>> main
   ]
  },
  {
   "cell_type": "code",
<<<<<<< HEAD
   "execution_count": null,
   "metadata": {},
   "outputs": [],
   "source": []
  },
  {
   "cell_type": "markdown",
   "metadata": {
    "colab_type": "text",
    "id": "IMiFjnaMTd32"
   },
   "source": [
    "Por tanto, por el criterio de la segunda derivada, $f(2)=0$ es un mínimo relativo (en efecto, el mínimo global)."
=======
   "execution_count": 12,
   "metadata": {},
   "outputs": [
    {
     "data": {
      "text/plain": [
       "5"
      ]
     },
     "execution_count": 12,
     "metadata": {},
     "output_type": "execute_result"
    }
   ],
   "source": [
    "L[-1] # Último elemento"
   ]
  },
  {
   "cell_type": "code",
   "execution_count": 13,
   "metadata": {},
   "outputs": [
    {
     "data": {
      "text/plain": [
       "6"
      ]
     },
     "execution_count": 13,
     "metadata": {},
     "output_type": "execute_result"
    }
   ],
   "source": [
    "L[-2] # Penúltimo elemento"
   ]
  },
  {
   "cell_type": "markdown",
   "metadata": {},
   "source": [
    "Cierra paréntesis\n",
    "\n",
    "---"
>>>>>>> main
   ]
  },
  {
   "cell_type": "markdown",
   "metadata": {
    "colab_type": "text",
<<<<<<< HEAD
    "id": "LRddFOZBTd36"
   },
   "source": [
    "### Ejemplo\n",
    "¿Qué pasa con $g(x)=(x-2)^3$ al intentar utilizar el criterio de la segunda derivada? (usar `sympy`)."
=======
    "id": "zRcC_dQOTd0L"
   },
   "source": [
    "Veamos la gráfica..."
>>>>>>> main
   ]
  },
  {
   "cell_type": "code",
<<<<<<< HEAD
   "execution_count": null,
   "metadata": {},
   "outputs": [],
   "source": []
  },
  {
   "cell_type": "markdown",
   "metadata": {
    "colab_type": "text",
    "id": "rQXsRXMZTd4k"
   },
   "source": [
    "Como $g''(2)=0$ entonces el criterio de la segunda derivada no concluye."
=======
   "execution_count": 14,
   "metadata": {
    "collapsed": true
   },
   "outputs": [
    {
     "ename": "TypeError",
     "evalue": "'Pow' object is not callable",
     "output_type": "error",
     "traceback": [
      "\u001b[1;31m---------------------------------------------------------------------------\u001b[0m",
      "\u001b[1;31mTypeError\u001b[0m                                 Traceback (most recent call last)",
      "\u001b[1;32m<ipython-input-14-fb48ebfde7ea>\u001b[0m in \u001b[0;36m<module>\u001b[1;34m\u001b[0m\n\u001b[1;32m----> 1\u001b[1;33m \u001b[0mf\u001b[0m\u001b[1;33m(\u001b[0m\u001b[1;36m5\u001b[0m\u001b[1;33m)\u001b[0m\u001b[1;33m\u001b[0m\u001b[1;33m\u001b[0m\u001b[0m\n\u001b[0m",
      "\u001b[1;31mTypeError\u001b[0m: 'Pow' object is not callable"
     ]
    }
   ],
   "source": [
    "f(5) # Esta línea marca error ('f' no es ejecutable)."
   ]
  },
  {
   "cell_type": "code",
   "execution_count": 15,
   "metadata": {
    "colab": {},
    "colab_type": "code",
    "id": "2X9Ahl2LTd0Q"
   },
   "outputs": [],
   "source": [
    "# Convertir función simbólica f a una función numérica\n",
    "sym.lambdify?"
>>>>>>> main
   ]
  },
  {
   "cell_type": "markdown",
   "metadata": {
    "colab_type": "text",
<<<<<<< HEAD
    "id": "EtrhIC04Td4n"
   },
   "source": [
    "### Actividad\n",
    "\n",
    "¿Qué pasa con $h(x)=(x-2)^4$ al intentar utilizar el criterio de la segunda derivada?."
=======
    "id": "aOJhHKhMTd1G"
   },
   "source": [
    "Ver diferencias entre f y f_num"
>>>>>>> main
   ]
  },
  {
   "cell_type": "code",
<<<<<<< HEAD
   "execution_count": null,
   "metadata": {},
   "outputs": [],
   "source": []
  },
  {
   "cell_type": "markdown",
   "metadata": {
    "colab_type": "text",
    "id": "ADXxt3lLTd43"
   },
   "source": [
    "## 3. Método para determinar extremos absolutos de una función continua y=f(x) en [a,b] \n",
    "\n",
    "- Determinar todos los valores críticos $c_1, c_2, c_3, \\dots, c_n$ en $(a,b)$.\n",
    "- Evaluar $f$ en todos los valores críticos y en los extremos $x=a$ y $x=b$.\n",
    "- El más grande y el más pequeño de los valores de la lista $f(a), f(b), f(c_1), f(c_2), \\dots, f(c_n)$ son el máximo absoluto y el mínimo absoluto, respectivamente, de $f$ en el intervalo $[a,b]$."
   ]
  },
  {
   "cell_type": "markdown",
   "metadata": {
    "colab_type": "text",
    "collapsed": true,
    "id": "HiedyU4lTd5B"
   },
   "source": [
    "### Ejemplo\n",
    "\n",
    "Determinar los extremos absolutos de $f(x)=x^2-2x+5$ en $\\left[0,3\\right]$.\n",
    "\n",
    "Obtenemos los puntos críticos de $f$ en $\\left[0,3\\right]$:"
=======
   "execution_count": 16,
   "metadata": {},
   "outputs": [
    {
     "data": {
      "text/plain": [
       "9"
      ]
     },
     "execution_count": 16,
     "metadata": {},
     "output_type": "execute_result"
    }
   ],
   "source": [
    "fnum=sym.lambdify(x,f,'numpy')\n",
    "fnum(5)"
   ]
  },
  {
   "cell_type": "code",
   "execution_count": 17,
   "metadata": {},
   "outputs": [
    {
     "data": {
      "text/latex": [
       "$\\displaystyle \\left(x - 2\\right)^{2}$"
      ],
      "text/plain": [
       "(x - 2)**2"
      ]
     },
     "execution_count": 17,
     "metadata": {},
     "output_type": "execute_result"
    }
   ],
   "source": [
    "f"
   ]
  },
  {
   "cell_type": "code",
   "execution_count": 18,
   "metadata": {
    "colab": {},
    "colab_type": "code",
    "id": "T5Fagnb5Td0i",
    "scrolled": false
   },
   "outputs": [],
   "source": [
    "# Definir coordenas x\n",
    "xnum=np.linspace(0,4,100) # definimos 100 valores equidistantes entre 0 y 4\n",
    "\n",
    "# Calcular coordenada en y\n",
    "ynum=fnum(xnum)"
>>>>>>> main
   ]
  },
  {
   "cell_type": "code",
<<<<<<< HEAD
   "execution_count": null,
   "metadata": {},
   "outputs": [],
   "source": []
  },
  {
   "cell_type": "markdown",
   "metadata": {
    "colab_type": "text",
    "id": "wDmIoTF7Td5h"
   },
   "source": [
    "Evaluamos $f$ en los extremos y en los puntos críticos:"
=======
   "execution_count": 21,
   "metadata": {
    "colab": {},
    "colab_type": "code",
    "id": "0MV4bEgWTd03"
   },
   "outputs": [
    {
     "data": {
      "image/png": "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\n",
      "text/plain": [
       "<Figure size 648x432 with 1 Axes>"
      ]
     },
     "metadata": {
      "needs_background": "light"
     },
     "output_type": "display_data"
    }
   ],
   "source": [
    "# Graficar:\n",
    "#    Creamos una ventana de gráficos\n",
    "plt.figure(figsize=(9,6))\n",
    "\n",
    "#    Mostrar gráfico\n",
    "plt.plot(xnum,ynum,':k') # Muestra una línea punteada negra (':k').\n",
    "plt.plot(c[0],fnum(c[0]),'*r',ms=10) # Muestra una estrella roja ('*r') de tamaño 10 (ms=10).\n",
    "plt.grid()"
>>>>>>> main
   ]
  },
  {
   "cell_type": "code",
<<<<<<< HEAD
   "execution_count": null,
   "metadata": {},
   "outputs": [],
   "source": []
=======
   "execution_count": 20,
   "metadata": {},
   "outputs": [
    {
     "data": {
      "text/latex": [
       "$\\displaystyle 0$"
      ],
      "text/plain": [
       "0"
      ]
     },
     "execution_count": 20,
     "metadata": {},
     "output_type": "execute_result"
    }
   ],
   "source": [
    "fnum(c[0])"
   ]
>>>>>>> main
  },
  {
   "cell_type": "markdown",
   "metadata": {
    "colab_type": "text",
<<<<<<< HEAD
    "id": "iVZJEjM3Td6Q"
   },
   "source": [
    "### Actividad\n",
    "Determinar los valores extremos absolutos de  $f(x) = (x-3)^2(x+3)^2$ en el intervalo $[1,\\,4]$, usando `sympy`. Mostrar en una gráfica."
=======
    "id": "67SkgnjhTd1g"
   },
   "source": [
    "### **Otra manera de hacer lo anterior**\n",
    "\n",
    "Revisemos el concepto de función en `Python`"
>>>>>>> main
   ]
  },
  {
   "cell_type": "code",
<<<<<<< HEAD
   "execution_count": null,
   "metadata": {},
   "outputs": [],
   "source": []
  },
  {
   "cell_type": "markdown",
   "metadata": {},
   "source": [
    "---\n",
    "1. **Resistencia de una viga**  Una viga de madera tiene una sección transversal rectangular de altura $h$ y ancho $w$. La resistencia $S$ de la viga es directamente proporcional al ancho y al cuadrado de su altura ($S=kwh^2$, donde $k$ es una constante de proporcionalidad). ¿Cuáles son las dimensiones de la viga más fuerte que puede cortarse a partir de un leño redondo de $24$ pulgadas de diámetro?"
=======
   "execution_count": 23,
   "metadata": {},
   "outputs": [
    {
     "data": {
      "text/plain": [
       "9"
      ]
     },
     "execution_count": 23,
     "metadata": {},
     "output_type": "execute_result"
    }
   ],
   "source": [
    "def fun(var):\n",
    "    return (var-2)**2\n",
    "fun(5)                 # Resultado numérico"
   ]
  },
  {
   "cell_type": "code",
   "execution_count": 24,
   "metadata": {},
   "outputs": [
    {
     "data": {
      "text/latex": [
       "$\\displaystyle \\left(x - 2\\right)^{2}$"
      ],
      "text/plain": [
       "(x - 2)**2"
      ]
     },
     "execution_count": 24,
     "metadata": {},
     "output_type": "execute_result"
    }
   ],
   "source": [
    "fun(x)                 # Resultado simbólico"
>>>>>>> main
   ]
  },
  {
   "cell_type": "code",
<<<<<<< HEAD
   "execution_count": null,
   "metadata": {},
   "outputs": [],
   "source": [
    "import numpy as np\n",
=======
   "execution_count": 25,
   "metadata": {},
   "outputs": [
    {
     "data": {
      "text/latex": [
       "$\\displaystyle 2 x - 4$"
      ],
      "text/plain": [
       "2*x - 4"
      ]
     },
     "execution_count": 25,
     "metadata": {},
     "output_type": "execute_result"
    }
   ],
   "source": [
    "df=sym.diff(fun(x),x)  # Especificamos como argumento una variable simbólica\n",
    "df"
   ]
  },
  {
   "cell_type": "code",
   "execution_count": 26,
   "metadata": {},
   "outputs": [
    {
     "data": {
      "text/plain": [
       "[2]"
      ]
     },
     "execution_count": 26,
     "metadata": {},
     "output_type": "execute_result"
    }
   ],
   "source": [
    "c=sym.solve(df,x)\n",
    "c"
   ]
  },
  {
   "cell_type": "code",
   "execution_count": 27,
   "metadata": {},
   "outputs": [
    {
     "data": {
      "image/png": "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\n",
      "text/plain": [
       "<Figure size 432x288 with 1 Axes>"
      ]
     },
     "metadata": {
      "needs_background": "light"
     },
     "output_type": "display_data"
    }
   ],
   "source": [
    "# Graficamo'\n",
    "ynum=fun(xnum)\n",
    "plt.plot(xnum,ynum,'--g')\n",
    "plt.plot(c[0],fun(c[0]),'xr',ms=20)\n",
    "plt.grid()"
   ]
  },
  {
   "cell_type": "markdown",
   "metadata": {
    "colab_type": "text",
    "id": "nJKkfvTVTd2y"
   },
   "source": [
    "**El converso del teorema anterior no es cierto.**\n",
    "\n",
    "### Ejemplo\n",
    "Considere $g(x)=(x-2)^3$. \n",
    "- Usando `sympy`, muestre que $g'(2)=0$.\n",
    "- Sin embargo, descartar que $x=2$ es un extremo de $g(x)$ viendo su **gráfica**."
   ]
  },
  {
   "cell_type": "code",
   "execution_count": 28,
   "metadata": {
    "colab": {},
    "colab_type": "code",
    "id": "aUErJxXjTd21"
   },
   "outputs": [
    {
     "data": {
      "text/latex": [
       "$\\displaystyle \\left(x - 2\\right)^{3}$"
      ],
      "text/plain": [
       "(x - 2)**3"
      ]
     },
     "execution_count": 28,
     "metadata": {},
     "output_type": "execute_result"
    }
   ],
   "source": [
    "# Las librerías ya están cargadas\n",
    "# La variable simbólica ya está definida ('x')\n",
    "\n",
    "# Definimos la función g(x)\n",
    "def g(x):\n",
    "    return (x-2)**3\n",
    "g(x)"
   ]
  },
  {
   "cell_type": "code",
   "execution_count": 29,
   "metadata": {},
   "outputs": [
    {
     "data": {
      "text/latex": [
       "$\\displaystyle 3 \\left(x - 2\\right)^{2}$"
      ],
      "text/plain": [
       "3*(x - 2)**2"
      ]
     },
     "execution_count": 29,
     "metadata": {},
     "output_type": "execute_result"
    }
   ],
   "source": [
    "# Derivamos\n",
    "dg=sym.diff(g(x),x)\n",
    "dg"
   ]
  },
  {
   "cell_type": "code",
   "execution_count": 30,
   "metadata": {},
   "outputs": [
    {
     "data": {
      "text/plain": [
       "[2]"
      ]
     },
     "execution_count": 30,
     "metadata": {},
     "output_type": "execute_result"
    }
   ],
   "source": [
    "# Resolvemos para dg=0\n",
    "c=sym.solve(dg,x)\n",
    "c"
   ]
  },
  {
   "cell_type": "code",
   "execution_count": 31,
   "metadata": {},
   "outputs": [
    {
     "data": {
      "image/png": "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\n",
      "text/plain": [
       "<Figure size 432x288 with 1 Axes>"
      ]
     },
     "metadata": {
      "needs_background": "light"
     },
     "output_type": "display_data"
    }
   ],
   "source": [
    "# Graficamos\n",
    "xnum=np.linspace(0,4,100)\n",
    "ynum=g(xnum)\n",
    "plt.plot(xnum,ynum)\n",
    "plt.plot(c[0],g(c[0]),'*',ms=15)\n",
    "plt.grid()"
   ]
  },
  {
   "cell_type": "markdown",
   "metadata": {
    "colab_type": "text",
    "id": "5cHqWJmcTd3A"
   },
   "source": [
    "## 2. Criterio de la segunda derivada\n",
    "\n",
    "Sea $f(x)$ una función tal que $f’(c)=0$ y cuya segunda derivada existe en un intervalo abierto que contiene a $c$.\n",
    "- Si $f’’(c)>0$, entonces $f(c)$ es un mínimo relativo.\n",
    "- Si $f’’(c)<0$, entonces $f(c)$ es un máximo relativo.\n",
    "- Si $f’’(c)=0$, entonces el criterio no decide. "
   ]
  },
  {
   "cell_type": "markdown",
   "metadata": {
    "colab_type": "text",
    "id": "l4NcYjskTd3G"
   },
   "source": [
    "### Actividad\n",
    "\n",
    "Mostrar, usando `sympy`, que la función $f(x)=(x-2)^2$ tiene un mínimo relativo en $x=2$.\n",
    "\n",
    "Ya vimos que $f'(2)=0$. Notemos que:"
   ]
  },
  {
   "cell_type": "code",
   "execution_count": 32,
   "metadata": {},
   "outputs": [],
   "source": [
    "sym.diff?"
   ]
  },
  {
   "cell_type": "code",
   "execution_count": 33,
   "metadata": {},
   "outputs": [
    {
     "data": {
      "text/plain": [
       "[2]"
      ]
     },
     "execution_count": 33,
     "metadata": {},
     "output_type": "execute_result"
    }
   ],
   "source": [
    "sym.var('x') # variable simbólica\n",
    "def f(x):\n",
    "    return (x-2)**2\n",
    "df=sym.diff(f(x),x)\n",
    "c=sym.solve(df,x)\n",
    "c"
   ]
  },
  {
   "cell_type": "code",
   "execution_count": 34,
   "metadata": {},
   "outputs": [
    {
     "data": {
      "text/latex": [
       "$\\displaystyle 2$"
      ],
      "text/plain": [
       "2"
      ]
     },
     "execution_count": 34,
     "metadata": {},
     "output_type": "execute_result"
    }
   ],
   "source": [
    "ddf=sym.diff(df,x)\n",
    "ddf"
   ]
  },
  {
   "cell_type": "code",
   "execution_count": 35,
   "metadata": {},
   "outputs": [
    {
     "data": {
      "text/latex": [
       "$\\displaystyle 2$"
      ],
      "text/plain": [
       "2"
      ]
     },
     "execution_count": 35,
     "metadata": {},
     "output_type": "execute_result"
    }
   ],
   "source": [
    "ddf=sym.diff(f(x),x,2)\n",
    "ddf"
   ]
  },
  {
   "cell_type": "code",
   "execution_count": 36,
   "metadata": {},
   "outputs": [
    {
     "data": {
      "text/latex": [
       "$\\displaystyle 2$"
      ],
      "text/plain": [
       "2"
      ]
     },
     "execution_count": 36,
     "metadata": {},
     "output_type": "execute_result"
    }
   ],
   "source": [
    "ddf.subs(x,c[0]) # sustituyendo 'x' por el punto crítico 'c[0]'"
   ]
  },
  {
   "cell_type": "markdown",
   "metadata": {
    "colab_type": "text",
    "id": "IMiFjnaMTd32"
   },
   "source": [
    "Por tanto, por el criterio de la segunda derivada, $f(2)=0$ es un mínimo relativo (en efecto, el mínimo global)."
   ]
  },
  {
   "cell_type": "markdown",
   "metadata": {},
   "source": [
    "**Resumen:**\n",
    "\n",
    "```python\n",
    "# Importamos librerías\n",
    "import numpy as np              # librería numérica\n",
    "import sympy as sym             # librería simbólica\n",
    "import matplotlib.pyplot as plt # librería gráfica\n",
    "\n",
    "# Definimos la variable simbólica\n",
    "sym.var('x')\n",
    "# Definimos la función a estudiar\n",
    "def f(x):\n",
    "    return (x-2)**2\n",
    "# Calculamos la derivada de 'f(x)'\n",
    "df=sym.diff(f(x),x) # Debido a que 'f' es una función ejecutable,\n",
    "                    # al dar como argumento una variable simbólica,\n",
    "                    # la función regresa una ecuación simbólica\n",
    "# Encontramos la raíz de la derivada 'df'\n",
    "c=sym.solve(df,x)   # Conjunto (lista) de soluciones\n",
    "# Determinamos si se trata de un máximo, un mínimo o si no es concluyente\n",
    "\n",
    "#     Criterio gráfico\n",
    "xnum=np.linspace(0,4,100)  # (mínimo, máximo, número_de_elementos)\n",
    "ynum=f(xnum)               # Regresa los 100 elementos de 'xnum' evaluados en 'f'\n",
    "plt.plot(xnum,ynum)\n",
    "plt.plot(c[0],f(c[0]),'*') # Marcamos con '*' el punto crítico\n",
    "\n",
    "#     Criterio de la segund a derivada\n",
    "ddf=sym.diff(f(x),x,2)     # ddf=sym.diff(df,x)\n",
    "ddf.subs(x,c[0])           # Sustitución por el punto crítico\n",
    "```\n",
    "---"
   ]
  },
  {
   "cell_type": "markdown",
   "metadata": {
    "colab_type": "text",
    "id": "LRddFOZBTd36"
   },
   "source": [
    "### Ejemplo\n",
    "¿Qué pasa con $g(x)=(x-2)^3$ al intentar utilizar el criterio de la segunda derivada? (usar `sympy`)."
   ]
  },
  {
   "cell_type": "code",
   "execution_count": 1,
   "metadata": {},
   "outputs": [],
   "source": [
    "# Importamos librerías\n",
    "import numpy as np\n",
    "import sympy as sym\n",
    "import matplotlib.pyplot as plt"
   ]
  },
  {
   "cell_type": "code",
   "execution_count": 2,
   "metadata": {},
   "outputs": [
    {
     "data": {
      "text/latex": [
       "$\\displaystyle \\left(x - 2\\right)^{3}$"
      ],
      "text/plain": [
       "(x - 2)**3"
      ]
     },
     "execution_count": 2,
     "metadata": {},
     "output_type": "execute_result"
    }
   ],
   "source": [
    "sym.var('x')\n",
    "def g(x):\n",
    "    return (x-2)**3\n",
    "g(x)"
   ]
  },
  {
   "cell_type": "code",
   "execution_count": 3,
   "metadata": {},
   "outputs": [
    {
     "data": {
      "text/plain": [
       "[2]"
      ]
     },
     "execution_count": 3,
     "metadata": {},
     "output_type": "execute_result"
    }
   ],
   "source": [
    "dg=sym.diff(g(x),x)\n",
    "c=sym.solve(dg,x)\n",
    "c"
   ]
  },
  {
   "cell_type": "code",
   "execution_count": 4,
   "metadata": {},
   "outputs": [
    {
     "data": {
      "text/latex": [
       "$\\displaystyle 0$"
      ],
      "text/plain": [
       "0"
      ]
     },
     "execution_count": 4,
     "metadata": {},
     "output_type": "execute_result"
    }
   ],
   "source": [
    "ddg=sym.diff(dg,x)\n",
    "ddg.subs(x,c[0])"
   ]
  },
  {
   "cell_type": "markdown",
   "metadata": {
    "colab_type": "text",
    "id": "rQXsRXMZTd4k"
   },
   "source": [
    "Como $g''(2)=0$ entonces el criterio de la segunda derivada no concluye."
   ]
  },
  {
   "cell_type": "markdown",
   "metadata": {
    "colab_type": "text",
    "id": "EtrhIC04Td4n"
   },
   "source": [
    "### Actividad\n",
    "\n",
    "¿Qué pasa con $h(x)=(x-2)^4$ al intentar utilizar el criterio de la segunda derivada?."
   ]
  },
  {
   "cell_type": "code",
   "execution_count": 5,
   "metadata": {},
   "outputs": [
    {
     "data": {
      "text/plain": [
       "[2]"
      ]
     },
     "execution_count": 5,
     "metadata": {},
     "output_type": "execute_result"
    }
   ],
   "source": [
    "# Se asume definido 'x'\n",
    "def h(x):\n",
    "    return (x-2)**4\n",
    "dh=sym.diff(h(x),x)\n",
    "c=sym.solve(dh,x)\n",
    "c"
   ]
  },
  {
   "cell_type": "code",
   "execution_count": 6,
   "metadata": {},
   "outputs": [
    {
     "data": {
      "text/latex": [
       "$\\displaystyle 0$"
      ],
      "text/plain": [
       "0"
      ]
     },
     "execution_count": 6,
     "metadata": {},
     "output_type": "execute_result"
    }
   ],
   "source": [
    "ddh=sym.diff(h(x),x,x)\n",
    "ddh.subs(x,c[0])"
   ]
  },
  {
   "cell_type": "code",
   "execution_count": 8,
   "metadata": {},
   "outputs": [
    {
     "data": {
      "image/png": "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\n",
      "text/plain": [
       "<Figure size 432x288 with 1 Axes>"
      ]
     },
     "metadata": {
      "needs_background": "light"
     },
     "output_type": "display_data"
    }
   ],
   "source": [
    "# Como no es concluyente, graficamos\n",
    "xnum=np.linspace(0,4,100)\n",
    "ynum=h(xnum)\n",
    "plt.plot(xnum,ynum)\n",
    "plt.plot(c[0],h(c[0]),'xk',ms=15)\n",
    "plt.grid()"
   ]
  },
  {
   "cell_type": "markdown",
   "metadata": {
    "colab_type": "text",
    "id": "ADXxt3lLTd43"
   },
   "source": [
    "## 3. Método para determinar extremos absolutos de una función continua y=f(x) en [a,b] \n",
    "\n",
    "- Determinar todos los valores críticos $c_1, c_2, c_3, \\dots, c_n$ en $(a,b)$.\n",
    "- Evaluar $f$ en todos los valores críticos y en los extremos $x=a$ y $x=b$.\n",
    "- El más grande y el más pequeño de los valores de la lista $f(a), f(b), f(c_1), f(c_2), \\dots, f(c_n)$ son el máximo absoluto y el mínimo absoluto, respectivamente, de $f$ en el intervalo $[a,b]$."
   ]
  },
  {
   "cell_type": "markdown",
   "metadata": {
    "colab_type": "text",
    "collapsed": true,
    "id": "HiedyU4lTd5B"
   },
   "source": [
    "### Ejemplo\n",
    "\n",
    "Determinar los extremos absolutos de $f(x)=x^2-2x+5$ en $\\left[0,3\\right]$.\n",
    "\n",
    "Obtenemos los puntos críticos de $f$ en $\\left[0,3\\right]$:"
   ]
  },
  {
   "cell_type": "code",
   "execution_count": 9,
   "metadata": {},
   "outputs": [
    {
     "data": {
      "text/latex": [
       "$\\displaystyle x^{2} - 2 x + 5$"
      ],
      "text/plain": [
       "x**2 - 2*x + 5"
      ]
     },
     "execution_count": 9,
     "metadata": {},
     "output_type": "execute_result"
    }
   ],
   "source": [
    "def f(x):\n",
    "    return x**2-2*x+5\n",
    "f(x)"
   ]
  },
  {
   "cell_type": "code",
   "execution_count": 10,
   "metadata": {},
   "outputs": [
    {
     "data": {
      "text/plain": [
       "[1]"
      ]
     },
     "execution_count": 10,
     "metadata": {},
     "output_type": "execute_result"
    }
   ],
   "source": [
    "df=sym.diff(f(x),x)\n",
    "c=sym.solve(df,x)\n",
    "c"
   ]
  },
  {
   "cell_type": "markdown",
   "metadata": {
    "colab_type": "text",
    "id": "wDmIoTF7Td5h"
   },
   "source": [
    "Evaluamos $f$ en los extremos y en los puntos críticos:"
   ]
  },
  {
   "cell_type": "code",
   "execution_count": 11,
   "metadata": {},
   "outputs": [
    {
     "data": {
      "text/plain": [
       "array([5, 4, 8])"
      ]
     },
     "execution_count": 11,
     "metadata": {},
     "output_type": "execute_result"
    }
   ],
   "source": [
    "xnum=np.array([0,1,3])\n",
    "ynum=f(xnum)\n",
    "ynum"
   ]
  },
  {
   "cell_type": "markdown",
   "metadata": {},
   "source": [
    "Entonces el punto (1,4) es un mínimo (local)."
   ]
  },
  {
   "cell_type": "code",
   "execution_count": 13,
   "metadata": {},
   "outputs": [
    {
     "data": {
      "image/png": "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\n",
      "text/plain": [
       "<Figure size 432x288 with 1 Axes>"
      ]
     },
     "metadata": {
      "needs_background": "light"
     },
     "output_type": "display_data"
    }
   ],
   "source": [
    "xn=np.linspace(0,3,100)\n",
    "yn=f(xn)\n",
    "plt.plot(xn,yn)\n",
    "plt.plot(c[0],f(c[0]),'*r',ms=15)\n",
    "plt.grid()"
   ]
  },
  {
   "cell_type": "markdown",
   "metadata": {
    "colab_type": "text",
    "id": "iVZJEjM3Td6Q"
   },
   "source": [
    "### Actividad\n",
    "Determinar los valores extremos absolutos de  $f(x) = (x-3)^2(x+3)^2$ en el intervalo $[1,\\,4]$, usando `sympy`. Mostrar en una gráfica."
   ]
  },
  {
   "cell_type": "code",
   "execution_count": 14,
   "metadata": {},
   "outputs": [
    {
     "data": {
      "text/latex": [
       "$\\displaystyle \\left(x - 3\\right)^{2} \\left(x + 3\\right)^{2}$"
      ],
      "text/plain": [
       "(x - 3)**2*(x + 3)**2"
      ]
     },
     "execution_count": 14,
     "metadata": {},
     "output_type": "execute_result"
    }
   ],
   "source": [
    "def f(x):\n",
    "    return (x-3)**2*(x+3)**2\n",
    "f(x)"
   ]
  },
  {
   "cell_type": "code",
   "execution_count": 15,
   "metadata": {},
   "outputs": [
    {
     "data": {
      "text/plain": [
       "[-3, 0, 3]"
      ]
     },
     "execution_count": 15,
     "metadata": {},
     "output_type": "execute_result"
    }
   ],
   "source": [
    "df=sym.diff(f(x),x)\n",
    "c=sym.solve(df,x)\n",
    "c"
   ]
  },
  {
   "cell_type": "code",
   "execution_count": 16,
   "metadata": {},
   "outputs": [
    {
     "data": {
      "text/latex": [
       "$\\displaystyle 3$"
      ],
      "text/plain": [
       "3"
      ]
     },
     "execution_count": 16,
     "metadata": {},
     "output_type": "execute_result"
    }
   ],
   "source": [
    "c[2] # Es el único punto cr´tico dentro de [1,4]"
   ]
  },
  {
   "cell_type": "code",
   "execution_count": 18,
   "metadata": {},
   "outputs": [
    {
     "data": {
      "text/plain": [
       "array([64, 0, 49], dtype=object)"
      ]
     },
     "execution_count": 18,
     "metadata": {},
     "output_type": "execute_result"
    }
   ],
   "source": [
    "# Evaluamos los extremos y el punto crítico:\n",
    "xnum=np.array([1,c[2],4])\n",
    "ynum=f(xnum)\n",
    "ynum"
   ]
  },
  {
   "cell_type": "markdown",
   "metadata": {},
   "source": [
    "Entonces el punto (3,0) se trata de un mínimo (local)."
   ]
  },
  {
   "cell_type": "markdown",
   "metadata": {},
   "source": [
    "---\n",
    "1. **Resistencia de una viga**  Una viga de madera tiene una sección transversal rectangular de altura $h$ y ancho $w$. La resistencia $S$ de la viga es directamente proporcional al ancho y al cuadrado de su altura ($S=kwh^2$, donde $k$ es una constante de proporcionalidad). ¿Cuáles son las dimensiones de la viga más fuerte que puede cortarse a partir de un leño redondo de $24$ pulgadas de diámetro?"
   ]
  },
  {
   "cell_type": "code",
   "execution_count": 4,
   "metadata": {},
   "outputs": [
    {
     "data": {
      "image/png": "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\n",
      "text/plain": [
       "<Figure size 432x288 with 1 Axes>"
      ]
     },
     "metadata": {
      "needs_background": "light"
     },
     "output_type": "display_data"
    }
   ],
   "source": [
    "import numpy as np\n",
    "import sympy as sym\n",
>>>>>>> main
    "import matplotlib.pyplot as plt\n",
    "import matplotlib.patches as patches\n",
    "\n",
    "C = patches.Circle((0, 0),12, fill=False,color='brown',lw=4)\n",
    "S = patches.Rectangle((-9,-8),18,16,fill=False,color='k')\n",
    "ax = plt.gca()\n",
    "ax.add_artist(S)\n",
    "ax.add_artist(C)\n",
    "\n",
    "plt.text(0,8.5,'$w$')\n",
    "plt.text(9.5,0,'$h$')\n",
    "\n",
    "plt.plot([-9,9],[-8,8],'r--')\n",
    "plt.text(0,2,'$24$')\n",
    "\n",
    "plt.axis('equal')\n",
    "plt.ylim([-15,15])\n",
    "plt.axis('off')\n",
    "plt.show()"
   ]
  },
  {
   "cell_type": "markdown",
   "metadata": {},
   "source": [
    "---\n",
<<<<<<< HEAD
=======
    "**Solución:**\n",
    "\n",
    "Se desea maximizar\n",
    "$$S=kwh^2,$$\n",
    "se supone $k=1$ y se sabe, por el teorema de Pitagoras que, $24^2=w^2+h^2$. Se sustituye $w=\\sqrt{24^2-h^2}$ en la ecuación de resistencia para obtener\n",
    "$$\n",
    "S=\\sqrt{24^2-h^2}h^2.\n",
    "$$\n",
    "Para $0<h<24$."
   ]
  },
  {
   "cell_type": "code",
   "execution_count": 5,
   "metadata": {},
   "outputs": [
    {
     "data": {
      "text/latex": [
       "$\\displaystyle h^{2} \\left(576 - h^{2}\\right)^{0.5}$"
      ],
      "text/plain": [
       "h**2*(576 - h**2)**0.5"
      ]
     },
     "execution_count": 5,
     "metadata": {},
     "output_type": "execute_result"
    }
   ],
   "source": [
    "sym.var('h')\n",
    "def S(h):\n",
    "    return (24**2-h**2)**0.5*h**2\n",
    "S(h)"
   ]
  },
  {
   "cell_type": "code",
   "execution_count": 6,
   "metadata": {},
   "outputs": [
    {
     "data": {
      "text/plain": [
       "[-19.5959179422654, 0.0, 19.5959179422654]"
      ]
     },
     "execution_count": 6,
     "metadata": {},
     "output_type": "execute_result"
    }
   ],
   "source": [
    "dS=sym.diff(S(h),h)\n",
    "c=sym.solve(dS,h)\n",
    "c"
   ]
  },
  {
   "cell_type": "code",
   "execution_count": 7,
   "metadata": {},
   "outputs": [
    {
     "data": {
      "image/png": "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\n",
      "text/plain": [
       "<Figure size 432x288 with 1 Axes>"
      ]
     },
     "metadata": {
      "needs_background": "light"
     },
     "output_type": "display_data"
    }
   ],
   "source": [
    "# Graficamos\n",
    "xnum=np.linspace(0,24,100)\n",
    "ynum=S(xnum)\n",
    "plt.plot(xnum,ynum)\n",
    "plt.plot(c[2],S(c[2]),'*r',ms=15)\n",
    "plt.grid()"
   ]
  },
  {
   "cell_type": "code",
   "execution_count": 10,
   "metadata": {},
   "outputs": [
    {
     "data": {
      "text/latex": [
       "$\\displaystyle 13.856406460551$"
      ],
      "text/plain": [
       "13.8564064605510"
      ]
     },
     "execution_count": 10,
     "metadata": {},
     "output_type": "execute_result"
    }
   ],
   "source": [
    "(24**2-c[2]**2)**0.5 # El ancho de la viga"
   ]
  },
  {
   "cell_type": "code",
   "execution_count": 23,
   "metadata": {},
   "outputs": [
    {
     "data": {
      "text/latex": [
       "$\\displaystyle 5320.86008085159$"
      ],
      "text/plain": [
       "5320.86008085159"
      ]
     },
     "execution_count": 23,
     "metadata": {},
     "output_type": "execute_result"
    }
   ],
   "source": [
    "S(c[2]) # Resistencia máxima"
   ]
  },
  {
   "cell_type": "markdown",
   "metadata": {},
   "source": [
    "---\n",
>>>>>>> main
    "2. **Iluminación**  Una fuente luminosa se localiza sobre el centro de una mesa circular de $4 pies$ de diámetro. Encontrar la altura $h$ de la fuente luminosa de modo tal que la iluminación $I$ en el perímetro de la mesa sea máxima si $I=k(\\sin \\alpha)/s^2$, donde $s$ es la altura oblicua, $\\alpha$ es el ángulo al cual la luz incide sobre la mesa y $k$ es una constante (El valor de esta última constante es irrelevante para el problema, ya que no se pide el valor de la iluminación)."
   ]
  },
  {
   "cell_type": "code",
<<<<<<< HEAD
   "execution_count": null,
   "metadata": {},
   "outputs": [],
=======
   "execution_count": 11,
   "metadata": {},
   "outputs": [
    {
     "data": {
      "image/png": "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\n",
      "text/plain": [
       "<Figure size 432x288 with 1 Axes>"
      ]
     },
     "metadata": {
      "needs_background": "light"
     },
     "output_type": "display_data"
    }
   ],
>>>>>>> main
   "source": [
    "E = patches.Ellipse((0, 0),10, 3,fc='white',ec='brown')\n",
    "C = patches.Circle((0,10.5),0.5,color='y')\n",
    "a = patches.Arc((-5,0),2,2,theta2=60)\n",
    "p1 = patches.Rectangle((-5, -2),0.5, 2, fill=False,color='brown')\n",
    "p2 = patches.Rectangle((4.5, -2),0.5, 2, fill=False,color='brown')\n",
    "p3 = patches.Rectangle((-0.25, -3),0.5, 2, fill=False,color='brown')\n",
    "ax = plt.gca()\n",
    "ax.add_artist(p1)\n",
    "ax.add_artist(p2)\n",
    "ax.add_artist(p3)\n",
    "ax.add_artist(E)\n",
    "ax.add_artist(C)\n",
    "ax.add_artist(a)\n",
    "\n",
    "plt.text(2,5,'$s$')\n",
    "plt.text(0,3,'$h$')\n",
    "plt.text(-4,0.5,r'$\\alpha$')\n",
    "plt.text(-0.5,-1,'$4$ pies')\n",
    "\n",
    "plt.plot([-5,0,5],[0,10,0],'y--')\n",
    "plt.plot([-5,5],[0,0],'k--')\n",
    "plt.plot([0,0],[0,10],'k--')\n",
    "\n",
    "\n",
    "plt.axis('equal')\n",
    "plt.ylim([-3.1,12])\n",
    "plt.axis('off')\n",
    "plt.show()"
   ]
  },
  {
<<<<<<< HEAD
   "cell_type": "code",
   "execution_count": null,
   "metadata": {},
   "outputs": [],
   "source": []
=======
   "cell_type": "markdown",
   "metadata": {},
   "source": [
    "---\n",
    "**Solución:**\n",
    "\n",
    "Se desea maximizar la iluminación en función de la altura $h$:\n",
    "$$\n",
    "I=k\\frac{\\sin\\alpha}{s^2}.\n",
    "$$\n",
    "Sabiendo que $\\sin\\alpha=\\frac{h}{s}$, se sustituye, lo que resulta en\n",
    "$$\n",
    "I=\\frac{h}{s^3}.\n",
    "$$\n",
    "Finalmente, usando el teorema de Pitágoras, se remplasa $s=\\sqrt{4+h^2}$, obteniendo\n",
    "$$\n",
    "I=\\frac{h}{(4+h^2)^{3/2}},\n",
    "$$\n",
    "para $h\\geq0$."
   ]
  },
  {
   "cell_type": "code",
   "execution_count": 17,
   "metadata": {},
   "outputs": [],
   "source": [
    "import sympy as sym\n",
    "import numpy as np\n",
    "import matplotlib.pyplot as plt"
   ]
  },
  {
   "cell_type": "code",
   "execution_count": 12,
   "metadata": {},
   "outputs": [
    {
     "data": {
      "text/latex": [
       "$\\displaystyle \\frac{h}{\\left(h^{2} + 4\\right)^{1.5}}$"
      ],
      "text/plain": [
       "h*(h**2 + 4)**(-1.5)"
      ]
     },
     "execution_count": 12,
     "metadata": {},
     "output_type": "execute_result"
    }
   ],
   "source": [
    "sym.var('h')\n",
    "def I(h):\n",
    "    return h/((4+h**2)**(3/2))\n",
    "I(h)"
   ]
  },
  {
   "cell_type": "code",
   "execution_count": 13,
   "metadata": {},
   "outputs": [
    {
     "data": {
      "text/plain": [
       "[-1.41421356237310, 1.41421356237310]"
      ]
     },
     "execution_count": 13,
     "metadata": {},
     "output_type": "execute_result"
    }
   ],
   "source": [
    "dI=sym.diff(I(h),h)\n",
    "c=sym.solve(dI,h)\n",
    "c"
   ]
  },
  {
   "cell_type": "code",
   "execution_count": 14,
   "metadata": {},
   "outputs": [
    {
     "data": {
      "text/latex": [
       "$\\displaystyle 1.4142135623731$"
      ],
      "text/plain": [
       "1.41421356237310"
      ]
     },
     "execution_count": 14,
     "metadata": {},
     "output_type": "execute_result"
    }
   ],
   "source": [
    "c[1] # Posición 1 de la variable 'c'"
   ]
  },
  {
   "cell_type": "code",
   "execution_count": 15,
   "metadata": {},
   "outputs": [
    {
     "data": {
      "image/png": "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\n",
      "text/plain": [
       "<Figure size 432x288 with 1 Axes>"
      ]
     },
     "metadata": {
      "needs_background": "light"
     },
     "output_type": "display_data"
    }
   ],
   "source": [
    "hnum=np.linspace(0,3,100)\n",
    "Inum=I(hnum)\n",
    "plt.plot(hnum,Inum)\n",
    "plt.plot(c[1],I(c[1]),'*r',ms=15)\n",
    "plt.grid()"
   ]
  },
  {
   "cell_type": "code",
   "execution_count": 16,
   "metadata": {},
   "outputs": [
    {
     "data": {
      "text/latex": [
       "$\\displaystyle 0.0962250448649376$"
      ],
      "text/plain": [
       "0.0962250448649376"
      ]
     },
     "execution_count": 16,
     "metadata": {},
     "output_type": "execute_result"
    }
   ],
   "source": [
    "I(c[1])"
   ]
  },
  {
   "cell_type": "markdown",
   "metadata": {},
   "source": [
    "La iluminación máxima $I=0.09623$ se encuentra en $h=1.4142$.\n",
    "\n",
    "---"
   ]
>>>>>>> main
  },
  {
   "cell_type": "markdown",
   "metadata": {},
   "source": [
    "3. **Fuerza mínima**  Se diseña un componente para deslizar un bloque de acero con peso $W=10 N$ a través de una mesa y sobre una canaleta. Se opone al movimiento del bloque una fuerza de fricción proporcional a su peso aparente (sea $k=0.1$ la constante de proporcionalidad). Determinar la fuerza mínima $f$ necesaria para deslizar el bloque y encontrar el valor correspondiente de $\\theta$.\n",
    "\n",
    "Ayudín: $f\\cos \\theta$ es la fuerza de dirección del movimiento, y $f\\sin\\theta$ es la fuerza que tiende a levantar el bloque. De tal modo, el peso aparente del bloque es $W-f\\sin\\theta$."
   ]
  },
  {
   "cell_type": "code",
<<<<<<< HEAD
   "execution_count": null,
   "metadata": {},
   "outputs": [],
=======
   "execution_count": 18,
   "metadata": {},
   "outputs": [
    {
     "data": {
      "image/png": "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\n",
      "text/plain": [
       "<Figure size 432x288 with 1 Axes>"
      ]
     },
     "metadata": {
      "needs_background": "light"
     },
     "output_type": "display_data"
    }
   ],
>>>>>>> main
   "source": [
    "W = patches.Rectangle((0, 2),0.8, 0.5, fill=False,color='k')\n",
    "a = patches.Arrow(0.8,2.25,1,0.5,width=0.1,color='k')\n",
    "arc = patches.Arc((0.8,2.25),1,1,theta2=30)\n",
    "ax = plt.gca()\n",
    "ax.add_artist(W)\n",
    "ax.add_artist(a)\n",
    "ax.add_artist(arc)\n",
    "\n",
    "plt.text(0.2,2.6,'$W$')\n",
    "plt.text(1.8,3,'$f$')\n",
    "plt.text(1.35,2.305,r'$\\theta$')\n",
    "\n",
    "plt.plot([1.8,2.8],[2.75,3.25],'k')\n",
    "plt.plot([0.8,2],[2.25,2.25],'k--')\n",
    "plt.plot([-1,-1,2,2],[0,2,2,0],'k')\n",
    "\n",
    "\n",
    "plt.axis('equal')\n",
    "plt.ylim([0,4])\n",
    "plt.axis('off')\n",
    "plt.show()"
   ]
  },
  {
<<<<<<< HEAD
   "cell_type": "code",
   "execution_count": null,
   "metadata": {},
   "outputs": [],
   "source": []
=======
   "cell_type": "markdown",
   "metadata": {},
   "source": [
    "---\n",
    "**Solución:**\n",
    "\n",
    "Asumiendo velocidad constante en el bloque, se tiene que\n",
    "$$\n",
    "f\\cos\\theta=k(W-f\\sin\\theta).\n",
    "$$\n",
    "Despejando $f$, resulta en la fuerza a minimizar en función del ángulo $\\theta$.\n",
    "$$\n",
    "f=\\frac{kW}{\\cos\\theta+k\\sin\\theta},\n",
    "$$\n",
    "para $-\\pi/2<\\theta<\\pi/2$."
   ]
  },
  {
   "cell_type": "code",
   "execution_count": 19,
   "metadata": {},
   "outputs": [
    {
     "data": {
      "text/latex": [
       "$\\displaystyle \\theta$"
      ],
      "text/plain": [
       "theta"
      ]
     },
     "execution_count": 19,
     "metadata": {},
     "output_type": "execute_result"
    }
   ],
   "source": [
    "sym.var('theta')"
   ]
  },
  {
   "cell_type": "code",
   "execution_count": 20,
   "metadata": {},
   "outputs": [
    {
     "data": {
      "text/latex": [
       "$\\displaystyle \\frac{1.0}{0.1 \\sin{\\left(\\theta \\right)} + \\cos{\\left(\\theta \\right)}}$"
      ],
      "text/plain": [
       "1.0/(0.1*sin(theta) + cos(theta))"
      ]
     },
     "execution_count": 20,
     "metadata": {},
     "output_type": "execute_result"
    }
   ],
   "source": [
    "k=0.1\n",
    "W=10\n",
    "f=k*W/(sym.cos(theta)+k*sym.sin(theta))\n",
    "f"
   ]
  },
  {
   "cell_type": "code",
   "execution_count": 21,
   "metadata": {},
   "outputs": [
    {
     "data": {
      "text/plain": [
       "[0.0996686524911620]"
      ]
     },
     "execution_count": 21,
     "metadata": {},
     "output_type": "execute_result"
    }
   ],
   "source": [
    "df=sym.diff(f,theta)\n",
    "c=sym.solve(df,theta)\n",
    "c"
   ]
  },
  {
   "cell_type": "code",
   "execution_count": 25,
   "metadata": {},
   "outputs": [
    {
     "data": {
      "image/png": "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\n",
      "text/plain": [
       "<Figure size 432x288 with 1 Axes>"
      ]
     },
     "metadata": {
      "needs_background": "light"
     },
     "output_type": "display_data"
    }
   ],
   "source": [
    "th=np.linspace(-1.4,np.pi/2,100)\n",
    "fn=sym.lambdify(theta,f,'numpy')\n",
    "\n",
    "plt.plot(th,fn(th))\n",
    "plt.plot(c[0],fn(float(c[0])),'*r',ms=15)\n",
    "plt.grid()"
   ]
  },
  {
   "cell_type": "code",
   "execution_count": 26,
   "metadata": {},
   "outputs": [
    {
     "data": {
      "text/plain": [
       "0.9950371902099893"
      ]
     },
     "execution_count": 26,
     "metadata": {},
     "output_type": "execute_result"
    }
   ],
   "source": [
    "fn(float(c[0]))"
   ]
  },
  {
   "cell_type": "markdown",
   "metadata": {},
   "source": [
    "La fuerza mínima es $0.995 N$ y se obtiene con un ángulo de $0.09967 rad$.\n",
    "\n",
    "---"
   ]
>>>>>>> main
  },
  {
   "cell_type": "markdown",
   "metadata": {
    "colab_type": "text",
    "id": "e0CgigELTd6-"
   },
   "source": [
    "### En varias variables...\n",
    "\n",
    "El procedimiento es análogo. \n",
    "\n",
    "Si una función $f:\\mathbb{R}^n\\to\\mathbb{R}$ alcanza un máximo o mínimo local en $\\boldsymbol{x}=\\boldsymbol{c}\\in\\mathbb{R}^n$, y $f$ es diferenciable en el punto $\\boldsymbol{x}=\\boldsymbol{c}$, entonces $\\left.\\frac{\\partial f}{\\partial \\boldsymbol{x}}\\right|_{\\boldsymbol{x}=\\boldsymbol{c}}=\\boldsymbol{0}$ (todas las derivadas parciales en el punto $\\boldsymbol{x}=\\boldsymbol{c}$ son cero).\n",
    "\n",
    "**Criterio de la segunda derivada:** para ver si es máximo o mínimo, se toma la segunda derivada (matriz Hessiana) y se verifica definición negativa o positiva, respectivamente.\n",
    "\n",
    "Si se restringe a cierta región, hay ciertas técnicas. La más general, pero también la más compleja es la de **multiplicadores de Lagrange**."
   ]
  },
  {
   "cell_type": "markdown",
   "metadata": {
    "colab_type": "text",
    "id": "Gm1hrxEXTd7B"
   },
   "source": [
    "**Ejemplo:** Determinar los valores extremo de $z(x,y)= (x-3)^2 + (y+5)^2$ usando el criterio de la segunda derivada y corroborarlo con la gráfica."
   ]
  },
  {
   "cell_type": "code",
   "execution_count": null,
   "metadata": {},
   "outputs": [],
   "source": []
  }
 ],
 "metadata": {
  "colab": {
   "collapsed_sections": [],
   "name": "Funciones escalares.ipynb",
   "provenance": []
  },
  "kernelspec": {
   "display_name": "Python 3",
   "language": "python",
   "name": "python3"
  },
  "language_info": {
   "codemirror_mode": {
    "name": "ipython",
    "version": 3
   },
   "file_extension": ".py",
   "mimetype": "text/x-python",
   "name": "python",
   "nbconvert_exporter": "python",
   "pygments_lexer": "ipython3",
   "version": "3.8.8"
  }
 },
 "nbformat": 4,
 "nbformat_minor": 1
}
